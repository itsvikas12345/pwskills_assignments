{
 "cells": [
  {
   "cell_type": "code",
   "execution_count": 8,
   "id": "0e6845f9-bb78-46c0-af2a-996fe8d59d60",
   "metadata": {},
   "outputs": [],
   "source": [
    "#code for swapping two numbers\n",
    "x=10\n",
    "y=12\n",
    "x=x^y  #XOR operation\n",
    "y=x^y\n",
    "x=x^y"
   ]
  },
  {
   "cell_type": "code",
   "execution_count": 9,
   "id": "b04376d1-ef66-46a9-853c-ad0f0107482d",
   "metadata": {},
   "outputs": [
    {
     "data": {
      "text/plain": [
       "12"
      ]
     },
     "execution_count": 9,
     "metadata": {},
     "output_type": "execute_result"
    }
   ],
   "source": [
    "x"
   ]
  },
  {
   "cell_type": "code",
   "execution_count": 10,
   "id": "e7016d1d-c22c-4d08-8d15-6eae82256bb3",
   "metadata": {},
   "outputs": [
    {
     "data": {
      "text/plain": [
       "10"
      ]
     },
     "execution_count": 10,
     "metadata": {},
     "output_type": "execute_result"
    }
   ],
   "source": [
    "y"
   ]
  },
  {
   "cell_type": "code",
   "execution_count": 17,
   "id": "ef62b7e8-09c5-41ee-b043-ded7e1912701",
   "metadata": {},
   "outputs": [
    {
     "name": "stdin",
     "output_type": "stream",
     "text": [
      "length of rectangle 12\n",
      "breadth of rectangle 10\n"
     ]
    },
    {
     "name": "stdout",
     "output_type": "stream",
     "text": [
      "Area of Rectangle is 120\n"
     ]
    }
   ],
   "source": [
    "#code for area of rectangle with inputs taken from user\n",
    "l=int(input(\"length of rectangle\"))\n",
    "b=int(input(\"breadth of rectangle\"))\n",
    "area_of_reactangle=l*b\n",
    "print(\"Area of Rectangle is\",area_of_reactangle)"
   ]
  },
  {
   "cell_type": "code",
   "execution_count": 15,
   "id": "817c7019-ae8f-43e3-906d-3b7ed8c50ae3",
   "metadata": {},
   "outputs": [
    {
     "name": "stdin",
     "output_type": "stream",
     "text": [
      " 27\n"
     ]
    },
    {
     "name": "stdout",
     "output_type": "stream",
     "text": [
      "temperature in farenheit is 80.6\n"
     ]
    }
   ],
   "source": [
    "#convert temperature from celsius to farenheit\n",
    "temp_in_celsius=float(input())\n",
    "temp_in_farenheit=(temp_in_celsius*(9/5)+32)\n",
    "print(\"temperature in farenheit is\",temp_in_farenheit)"
   ]
  },
  {
   "cell_type": "code",
   "execution_count": 21,
   "id": "4fc77a1b-1107-4738-80e3-d27b545bff7a",
   "metadata": {},
   "outputs": [
    {
     "name": "stdin",
     "output_type": "stream",
     "text": [
      " this is my first assignment\n"
     ]
    },
    {
     "name": "stdout",
     "output_type": "stream",
     "text": [
      "27\n"
     ]
    }
   ],
   "source": [
    "#length of string\n",
    "s=str(input())\n",
    "length=len(s)\n",
    "print(length)"
   ]
  },
  {
   "cell_type": "code",
   "execution_count": 26,
   "id": "6ad17eb4-b31c-459e-ac9d-59b5fa78aa70",
   "metadata": {},
   "outputs": [
    {
     "name": "stdin",
     "output_type": "stream",
     "text": [
      "Enter a string: this is my first assignment\n"
     ]
    },
    {
     "name": "stdout",
     "output_type": "stream",
     "text": [
      "6\n"
     ]
    }
   ],
   "source": [
    "#counting the number of vowels\n",
    "s1=str(input(\"Enter a string:\"))\n",
    "vowels=['a','e','i','o','u','A','E','I','O','U']\n",
    "count=0\n",
    "for letter in s1:\n",
    "    if letter in vowels:\n",
    "        count=count+1\n",
    "\n",
    "print(count)"
   ]
  },
  {
   "cell_type": "code",
   "execution_count": 28,
   "id": "4070339c-bf04-45f7-9a71-1a28acf08329",
   "metadata": {},
   "outputs": [
    {
     "name": "stdin",
     "output_type": "stream",
     "text": [
      "Enter a String: this is my first assignment\n"
     ]
    },
    {
     "name": "stdout",
     "output_type": "stream",
     "text": [
      "tnemngissa tsrif ym si siht\n"
     ]
    }
   ],
   "source": [
    "#string reversal\n",
    "s2=input(\"Enter a String:\")\n",
    "s3=s2[::-1]\n",
    "print(s3)"
   ]
  },
  {
   "cell_type": "code",
   "execution_count": 35,
   "id": "faaaecbe-256a-450e-87fc-57131b1c6303",
   "metadata": {},
   "outputs": [
    {
     "name": "stdin",
     "output_type": "stream",
     "text": [
      "Enter a String: maam\n"
     ]
    },
    {
     "name": "stdout",
     "output_type": "stream",
     "text": [
      "string is a Palindrome\n"
     ]
    }
   ],
   "source": [
    "#check if string is palindrome or not\n",
    "s4=input(\"Enter a String:\")\n",
    "s5=s4[::-1]\n",
    "if s5==s4:\n",
    "    print(\"string is a Palindrome\")\n",
    "else:\n",
    "    print(\"string is not a palindrome\")\n"
   ]
  },
  {
   "cell_type": "code",
   "execution_count": 37,
   "id": "d665b1d6-e130-4053-a31d-e58f306d86c0",
   "metadata": {},
   "outputs": [
    {
     "name": "stdin",
     "output_type": "stream",
     "text": [
      "Enter a String: this is my first assignment\n"
     ]
    },
    {
     "name": "stdout",
     "output_type": "stream",
     "text": [
      "thisismyfirstassignment\n"
     ]
    }
   ],
   "source": [
    "#space removal in string\n",
    "s6=input(\"Enter a String:\")\n",
    "for i in s6:\n",
    "    if i==\" \":\n",
    "        new_string=s6.replace(\" \",\"\")\n",
    "print(new_string)        "
   ]
  },
  {
   "cell_type": "code",
   "execution_count": null,
   "id": "6f243d87-207b-482f-b9de-736265ffe138",
   "metadata": {},
   "outputs": [],
   "source": []
  }
 ],
 "metadata": {
  "kernelspec": {
   "display_name": "Python 3 (ipykernel)",
   "language": "python",
   "name": "python3"
  },
  "language_info": {
   "codemirror_mode": {
    "name": "ipython",
    "version": 3
   },
   "file_extension": ".py",
   "mimetype": "text/x-python",
   "name": "python",
   "nbconvert_exporter": "python",
   "pygments_lexer": "ipython3",
   "version": "3.10.8"
  }
 },
 "nbformat": 4,
 "nbformat_minor": 5
}
