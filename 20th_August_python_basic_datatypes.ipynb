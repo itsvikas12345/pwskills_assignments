{
 "cells": [
  {
   "cell_type": "code",
   "execution_count": 2,
   "id": "fa132681-6ee8-4ab2-9963-e2dfc19e53f0",
   "metadata": {},
   "outputs": [],
   "source": [
    "s=\"my name is shikha choudhary.\"\n",
    "s1=s[::-1]"
   ]
  },
  {
   "cell_type": "markdown",
   "id": "5052abff-e95c-45a7-846b-73a30512d4c8",
   "metadata": {
    "tags": []
   },
   "source": [
    "# "
   ]
  },
  {
   "cell_type": "code",
   "execution_count": 3,
   "id": "1823b80b-43ed-4e57-b277-78459757d8e2",
   "metadata": {},
   "outputs": [
    {
     "data": {
      "text/plain": [
       "'.yrahduohc ahkihs si eman ym'"
      ]
     },
     "execution_count": 3,
     "metadata": {},
     "output_type": "execute_result"
    }
   ],
   "source": [
    "s1"
   ]
  },
  {
   "cell_type": "code",
   "execution_count": 8,
   "id": "d24af3e7-ef00-4cc6-95c4-be4ad42b1352",
   "metadata": {},
   "outputs": [
    {
     "name": "stdin",
     "output_type": "stream",
     "text": [
      "Enter a string shikha\n"
     ]
    },
    {
     "name": "stdout",
     "output_type": "stream",
     "text": [
      "string is not a palindrome\n"
     ]
    }
   ],
   "source": [
    "s2=input(\"Enter a string\")\n",
    "#l=len(s2)\n",
    "if s2[0]==s2[-1]:\n",
    "    print(\"string is palindrome\")\n",
    "else:\n",
    "    print(\"string is not a palindrome\")"
   ]
  },
  {
   "cell_type": "code",
   "execution_count": 9,
   "id": "d44f4e95-7525-48a8-97a4-3ac01648a0e0",
   "metadata": {},
   "outputs": [
    {
     "data": {
      "text/plain": [
       "'SHIKHA'"
      ]
     },
     "execution_count": 9,
     "metadata": {},
     "output_type": "execute_result"
    }
   ],
   "source": [
    "s2.upper()"
   ]
  },
  {
   "cell_type": "code",
   "execution_count": 10,
   "id": "eda7dc89-b4c1-463e-8603-2306f152804d",
   "metadata": {},
   "outputs": [
    {
     "data": {
      "text/plain": [
       "'shikha'"
      ]
     },
     "execution_count": 10,
     "metadata": {},
     "output_type": "execute_result"
    }
   ],
   "source": [
    "s2.lower()"
   ]
  },
  {
   "cell_type": "code",
   "execution_count": 13,
   "id": "c81c92ce-95da-4650-824d-e834d023912a",
   "metadata": {},
   "outputs": [
    {
     "name": "stdin",
     "output_type": "stream",
     "text": [
      "enter a string this is my second assignment\n"
     ]
    },
    {
     "name": "stdout",
     "output_type": "stream",
     "text": [
      "The total number of vowles in the string is= 7\n"
     ]
    }
   ],
   "source": [
    "s3=str(input(\"enter a string\"))\n",
    "count=0\n",
    "vowels=['a','e','i','o','u','A','E','I','O','U']\n",
    "for letter in s3:\n",
    "    if letter in vowels:\n",
    "        count=count+1\n",
    "print(\"The total number of vowles in the string is=\",count)\n",
    "    "
   ]
  },
  {
   "cell_type": "code",
   "execution_count": 14,
   "id": "26b65dfc-1892-4258-a456-eaba1a74d544",
   "metadata": {},
   "outputs": [
    {
     "data": {
      "text/plain": [
       "'this is my second assignment'"
      ]
     },
     "execution_count": 14,
     "metadata": {},
     "output_type": "execute_result"
    }
   ],
   "source": [
    "s3"
   ]
  },
  {
   "cell_type": "code",
   "execution_count": 24,
   "id": "24bb8c71-6589-424b-a7d7-2f53f48d3b84",
   "metadata": {},
   "outputs": [
    {
     "name": "stdin",
     "output_type": "stream",
     "text": [
      "enter a string this is my second assignment\n"
     ]
    },
    {
     "name": "stdout",
     "output_type": "stream",
     "text": [
      "The total number of consonants in the string is= 21\n"
     ]
    }
   ],
   "source": [
    "s3=str(input(\"enter a string\"))\n",
    "count_vowels=0\n",
    "count_cons=0\n",
    "vowels=['a','e','i','o','u','A','E','I','O','U']\n",
    "for letter in s3:\n",
    "    if letter in vowels:\n",
    "        count_vowels=count_vowels+1\n",
    "    else:\n",
    "        count_cons=count_cons+1\n",
    "        \n",
    "print(\"The total number of consonants in the string is=\",count_cons)"
   ]
  },
  {
   "cell_type": "code",
   "execution_count": 25,
   "id": "54e21b06-bf4e-4649-b7dc-0159d0cd44cc",
   "metadata": {},
   "outputs": [
    {
     "data": {
      "text/plain": [
       "'thisismysecondassignment'"
      ]
     },
     "execution_count": 25,
     "metadata": {},
     "output_type": "execute_result"
    }
   ],
   "source": [
    "s3.replace(\" \",\"\")"
   ]
  },
  {
   "cell_type": "code",
   "execution_count": 26,
   "id": "0a7b883d-af19-48cd-8459-5d6a71e256cf",
   "metadata": {},
   "outputs": [
    {
     "name": "stdin",
     "output_type": "stream",
     "text": [
      "Enter a string= This is my secont assignment\n"
     ]
    },
    {
     "name": "stdout",
     "output_type": "stream",
     "text": [
      "Length of string is= 28\n"
     ]
    }
   ],
   "source": [
    "s3=str(input(\"Enter a string=\"))\n",
    "count=0\n",
    "for i in s3:\n",
    "    count=count+1\n",
    "print(\"Length of string is=\",count)\n"
   ]
  },
  {
   "cell_type": "code",
   "execution_count": 38,
   "id": "12270daf-07f8-4b74-b53c-d3136eab0518",
   "metadata": {},
   "outputs": [
    {
     "name": "stdin",
     "output_type": "stream",
     "text": [
      "Enter a string= have a nice day\n",
      "word to be found= day\n"
     ]
    },
    {
     "name": "stdout",
     "output_type": "stream",
     "text": [
      "word found\n"
     ]
    }
   ],
   "source": [
    "s3=str(input(\"Enter a string=\"))\n",
    "sub_s3=str(input(\"word to be found=\"))\n",
    "if sub_s3 in s3:\n",
    "    print(\"word found\")\n",
    "else:\n",
    "    print(\"word not found\")"
   ]
  },
  {
   "cell_type": "code",
   "execution_count": 40,
   "id": "199913c1-fb32-481f-95e3-aa8fd3b72220",
   "metadata": {},
   "outputs": [
    {
     "data": {
      "text/plain": [
       "'Your day was fine'"
      ]
     },
     "execution_count": 40,
     "metadata": {},
     "output_type": "execute_result"
    }
   ],
   "source": [
    "s4=\"My day was fine\"\n",
    "s4.replace(\"My\",\"Your\")"
   ]
  },
  {
   "cell_type": "code",
   "execution_count": 41,
   "id": "d0b1cdbb-15e0-481e-a415-e1a3b086d87c",
   "metadata": {},
   "outputs": [
    {
     "name": "stdin",
     "output_type": "stream",
     "text": [
      "Enter a string= Have a nice day\n",
      "word to be found= nice\n"
     ]
    },
    {
     "name": "stdout",
     "output_type": "stream",
     "text": [
      "the number of occurences of word is= 1\n"
     ]
    }
   ],
   "source": [
    "s3=str(input(\"Enter a string=\"))\n",
    "sub_s3=str(input(\"word to be found=\"))\n",
    "count=0\n",
    "if sub_s3 in s3:\n",
    "    count=count+1\n",
    "print(\"the number of occurences of word is=\",count)"
   ]
  },
  {
   "cell_type": "code",
   "execution_count": 46,
   "id": "ba3a5633-73b0-4441-9d3e-d0ef0e506133",
   "metadata": {},
   "outputs": [
    {
     "name": "stdout",
     "output_type": "stream",
     "text": [
      "6\n",
      "20\n"
     ]
    }
   ],
   "source": [
    "s3='this man is a good man'\n",
    "print(s3.find(\"man\"))\n",
    "print(s3.rfind(\"man\"))"
   ]
  },
  {
   "cell_type": "code",
   "execution_count": 51,
   "id": "9af60c6f-2772-40e4-a1b5-1642488411b5",
   "metadata": {},
   "outputs": [
    {
     "data": {
      "text/plain": [
       "['', 'this', 'man', 'is', 'a', 'good', 'man']"
      ]
     },
     "execution_count": 51,
     "metadata": {},
     "output_type": "execute_result"
    }
   ],
   "source": [
    "l=s3.split(' ')"
   ]
  },
  {
   "cell_type": "code",
   "execution_count": 55,
   "id": "336d3614-31e5-4955-9eff-4c726a0d0260",
   "metadata": {},
   "outputs": [
    {
     "data": {
      "text/plain": [
       "'This is a good man'"
      ]
     },
     "execution_count": 55,
     "metadata": {},
     "output_type": "execute_result"
    }
   ],
   "source": [
    "s=\" \"\n",
    "s.join(['This','is','a','good','man'])"
   ]
  },
  {
   "cell_type": "code",
   "execution_count": 6,
   "id": "0b66745f-6914-4704-b77b-af2cca595fce",
   "metadata": {},
   "outputs": [
    {
     "data": {
      "text/plain": [
       "'This_is_a_good_day'"
      ]
     },
     "execution_count": 6,
     "metadata": {},
     "output_type": "execute_result"
    }
   ],
   "source": [
    "s4=\"This is a good day\"\n",
    "s4.replace(\" \", \"_\")\n",
    "#print (s4)"
   ]
  },
  {
   "cell_type": "code",
   "execution_count": 10,
   "id": "cbe724bc-b610-494c-9832-2fc374afd7c8",
   "metadata": {},
   "outputs": [
    {
     "data": {
      "text/plain": [
       "True"
      ]
     },
     "execution_count": 10,
     "metadata": {},
     "output_type": "execute_result"
    }
   ],
   "source": [
    "s4.startswith(\"This\")\n",
    "#s4.startswith(\"day\")"
   ]
  },
  {
   "cell_type": "code",
   "execution_count": 12,
   "id": "bc65ccb1-ff22-41e7-b0eb-410522226baa",
   "metadata": {},
   "outputs": [
    {
     "data": {
      "text/plain": [
       "True"
      ]
     },
     "execution_count": 12,
     "metadata": {},
     "output_type": "execute_result"
    }
   ],
   "source": [
    "s4.endswith(\"good day\")"
   ]
  },
  {
   "cell_type": "code",
   "execution_count": 17,
   "id": "cf8a265d-dcff-4641-8ba1-b8e2be7c2f03",
   "metadata": {},
   "outputs": [
    {
     "data": {
      "text/plain": [
       "'Hello World'"
      ]
     },
     "execution_count": 17,
     "metadata": {},
     "output_type": "execute_result"
    }
   ],
   "source": [
    "s5=\"hello world\"\n",
    "s5.title()"
   ]
  },
  {
   "cell_type": "code",
   "execution_count": 25,
   "id": "d20b66fc-f913-45dd-a437-35a6bc17bf72",
   "metadata": {},
   "outputs": [
    {
     "name": "stdin",
     "output_type": "stream",
     "text": [
      "enter a string India is a great country\n"
     ]
    },
    {
     "name": "stdout",
     "output_type": "stream",
     "text": [
      "the longest word is country\n",
      "the shortest word is a\n"
     ]
    }
   ],
   "source": [
    "st=input(\"enter a string\")\n",
    "l=st.split()\n",
    "longest_word=max(l,key=len)\n",
    "shortest_word=min(l,key=len)\n",
    "print(\"the longest word is\",longest_word)\n",
    "print(\"the shortest word is\",shortest_word)\n",
    "    \n"
   ]
  },
  {
   "cell_type": "code",
   "execution_count": 10,
   "id": "735bdcc5-483f-4888-82c5-55231fc02038",
   "metadata": {},
   "outputs": [
    {
     "name": "stdin",
     "output_type": "stream",
     "text": [
      "Enter a string I am happy\n"
     ]
    },
    {
     "name": "stdout",
     "output_type": "stream",
     "text": [
      "happy am I\n"
     ]
    }
   ],
   "source": [
    "str1=input(\"Enter a string\")\n",
    "l1=str1.split()[::-1]\n",
    "st2=[]\n",
    "for i in l1:\n",
    "    st2.append(i)\n",
    "print(\" \".join(st2))"
   ]
  },
  {
   "cell_type": "code",
   "execution_count": 12,
   "id": "b6004cc8-ddde-46a8-b09c-5efd711a2046",
   "metadata": {},
   "outputs": [
    {
     "data": {
      "text/plain": [
       "False"
      ]
     },
     "execution_count": 12,
     "metadata": {},
     "output_type": "execute_result"
    }
   ],
   "source": [
    "str1.isalpha()"
   ]
  },
  {
   "cell_type": "markdown",
   "id": "9d2797a1-7a2f-4e4c-9e43-8b8237edd5d2",
   "metadata": {
    "tags": []
   },
   "source": [
    "str2=input(\"enter a string\")\n",
    "l2=str1.split()\n",
    "    "
   ]
  },
  {
   "cell_type": "code",
   "execution_count": 22,
   "id": "7ff24f2a-6308-464b-a040-1c030568841b",
   "metadata": {},
   "outputs": [
    {
     "name": "stdin",
     "output_type": "stream",
     "text": [
      "Enter a string I Am 20 Years Old and My mother is 40 years Old\n"
     ]
    },
    {
     "name": "stdout",
     "output_type": "stream",
     "text": [
      "the list of numbers is: [20, 40]\n"
     ]
    }
   ],
   "source": [
    "str2=input(\"Enter a string\")\n",
    "l2=str2.split()\n",
    "count=[]\n",
    "for i in l2:\n",
    "        if i.isdigit()==True:\n",
    "            count.append(int(i))\n",
    "print(\"the list of numbers is:\",str(count))"
   ]
  },
  {
   "cell_type": "code",
   "execution_count": 23,
   "id": "e643fb64-fbf2-4f82-8e86-7cf9d74b54ae",
   "metadata": {},
   "outputs": [
    {
     "name": "stdout",
     "output_type": "stream",
     "text": [
      "the list of alphabets is: ['I', 'Am', 'Years', 'Old', 'and', 'My', 'mother', 'is', 'years', 'Old']\n"
     ]
    }
   ],
   "source": [
    "count=[]\n",
    "for i in l2:\n",
    "    if i.isalpha()==True:\n",
    "        count.append(i)\n",
    "print(\"the list of alphabets is:\",count)"
   ]
  },
  {
   "cell_type": "code",
   "execution_count": 27,
   "id": "c1e8a898-af0f-4942-9e8e-72e800950e92",
   "metadata": {},
   "outputs": [
    {
     "name": "stdout",
     "output_type": "stream",
     "text": [
      "total number of uppercase letter is: 6 and the number of lowercase letters is 4\n"
     ]
    }
   ],
   "source": [
    "count1=0\n",
    "count2=0\n",
    "for i in l2:\n",
    "    if i.istitle()==True:\n",
    "        count1=count1+1\n",
    "    elif i.islower()==True:\n",
    "        count2=count2+1\n",
    "print(\"total number of uppercase letter is:\",count1,\"and the number of lowercase letters is\",count2)\n"
   ]
  },
  {
   "cell_type": "code",
   "execution_count": 29,
   "id": "bda0764e-bd06-41a8-abfe-a5917f5de6e0",
   "metadata": {},
   "outputs": [
    {
     "name": "stdout",
     "output_type": "stream",
     "text": [
      "iT IS A BEAUTIFUL dAY\n"
     ]
    }
   ],
   "source": [
    "string=\"It is a beautiful Day\"\n",
    "string1=string.swapcase()\n",
    "print(string1)"
   ]
  },
  {
   "cell_type": "code",
   "execution_count": 33,
   "id": "284a322b-5637-4e54-a0f6-3232dfcc8cff",
   "metadata": {},
   "outputs": [
    {
     "data": {
      "text/plain": [
       "'It is a  Day'"
      ]
     },
     "execution_count": 33,
     "metadata": {},
     "output_type": "execute_result"
    }
   ],
   "source": [
    "string.replace(\"beautiful\",\"\")"
   ]
  },
  {
   "cell_type": "code",
   "execution_count": 15,
   "id": "44d8bef3-5a98-4a55-beeb-ccf2f5bd2400",
   "metadata": {},
   "outputs": [
    {
     "name": "stdin",
     "output_type": "stream",
     "text": [
      "Enter email id shikhachoudhary7@gmail.com\n"
     ]
    },
    {
     "name": "stdout",
     "output_type": "stream",
     "text": [
      "the domain name is:shikhachoudhary7\n"
     ]
    }
   ],
   "source": [
    "#extract username from emailid\n",
    "s=input(\"Enter email id\")\n",
    "a=s.split('@')[0]\n",
    "print(\"the domain name is:\" +str(a))"
   ]
  },
  {
   "cell_type": "code",
   "execution_count": 16,
   "id": "53d89d0d-d809-471e-b30d-8ceacf70ad35",
   "metadata": {},
   "outputs": [
    {
     "name": "stdout",
     "output_type": "stream",
     "text": [
      "the domain name is:gmail.com\n"
     ]
    }
   ],
   "source": [
    "#extract domain name from email id\n",
    "b=s.split('@')[-1]\n",
    "print(\"the domain name is:\" +str(b))"
   ]
  },
  {
   "cell_type": "code",
   "execution_count": 3,
   "id": "09852520-6337-471a-a40d-f5dd938225f7",
   "metadata": {},
   "outputs": [
    {
     "name": "stdin",
     "output_type": "stream",
     "text": [
      "Enter the string My      name is   shikha\n"
     ]
    },
    {
     "name": "stdout",
     "output_type": "stream",
     "text": [
      "My name is shikha\n"
     ]
    }
   ],
   "source": [
    "#remove multiple spaces in a string\n",
    "mystring=input(\"Enter the string\")\n",
    "mystring = mystring.strip()  # the while loop will leave a trailing space, \n",
    "                  # so the trailing whitespace must be dealt with\n",
    "                  # before or after the while loop\n",
    "while '  ' in mystring:\n",
    "    mystring = mystring.replace('  ', ' ')\n",
    "print (str(mystring))"
   ]
  },
  {
   "cell_type": "code",
   "execution_count": 5,
   "id": "afac79d5-9687-47ef-ac72-010132a75676",
   "metadata": {},
   "outputs": [
    {
     "name": "stdin",
     "output_type": "stream",
     "text": [
      "enter a string hello it is very very good night\n"
     ]
    },
    {
     "name": "stdout",
     "output_type": "stream",
     "text": [
      "frequency of each character is: {'h': 2, 'e': 3, 'l': 2, 'o': 3, ' ': 6, 'i': 3, 't': 2, 's': 1, 'v': 2, 'r': 2, 'y': 2, 'g': 2, 'd': 1, 'n': 1}\n"
     ]
    }
   ],
   "source": [
    "#frequency of each character in a string\n",
    "s=(input(\"enter a string\"))\n",
    "freq={}\n",
    "for i in s:\n",
    "    if i in freq:\n",
    "        freq[i]=freq[i]+1\n",
    "    else:\n",
    "        freq[i]=1\n",
    "print(\"frequency of each character is:\", str(freq))"
   ]
  },
  {
   "cell_type": "code",
   "execution_count": 19,
   "id": "34902743-72fe-4866-8502-06f2fe041604",
   "metadata": {},
   "outputs": [
    {
     "name": "stdin",
     "output_type": "stream",
     "text": [
      "enter a string: hello! how are you?\n"
     ]
    },
    {
     "name": "stdout",
     "output_type": "stream",
     "text": [
      "The original string is : hello! how are you?\n",
      "The string after punctuation filter : hello how are you\n"
     ]
    }
   ],
   "source": [
    "# remove all puntuation marks in a string\n",
    "s=input(\"enter a string:\")\n",
    "\n",
    "# printing original string\n",
    "print(\"The original string is : \" + s)\n",
    "\n",
    "# initializing punctuations string\n",
    "punc = '''~!@#$%^&*(){}[]\\,;\"./?'''\n",
    "for ele in s:\n",
    "\tif ele in punc:\n",
    "\t\ts = s.replace(ele, \"\")\n",
    "\n",
    "print(\"The string after punctuation filter : \" + s)\n",
    "\n"
   ]
  },
  {
   "cell_type": "code",
   "execution_count": 23,
   "id": "4fdeba9a-c2f2-4eac-9628-d4d2685b0a99",
   "metadata": {},
   "outputs": [
    {
     "name": "stdin",
     "output_type": "stream",
     "text": [
      "enter a string 4325465756\n"
     ]
    },
    {
     "name": "stdout",
     "output_type": "stream",
     "text": [
      "the string contains only digits\n"
     ]
    }
   ],
   "source": [
    "# check if string contains only string\n",
    "test_str=input(\"enter a string\")\n",
    "if test_str.isdigit():\n",
    "    print(\"the string contains only digits\")\n",
    "else:\n",
    "    print(\"the string does not contain all digits\")"
   ]
  },
  {
   "cell_type": "code",
   "execution_count": 27,
   "id": "179ad2f5-ba6b-4e30-958b-545b159ae438",
   "metadata": {},
   "outputs": [
    {
     "name": "stdin",
     "output_type": "stream",
     "text": [
      "enter a string: mumbai\n"
     ]
    },
    {
     "name": "stdout",
     "output_type": "stream",
     "text": [
      "the string contains only alphabets\n"
     ]
    }
   ],
   "source": [
    "# check if string contains only alphabets\n",
    "test_str=input(\"enter a string:\")\n",
    "if test_str.isalpha():\n",
    "    print(\"the string contains only alphabets\")\n",
    "else:\n",
    "    print(\"the string does not contain all alphabets\")"
   ]
  },
  {
   "cell_type": "code",
   "execution_count": 3,
   "id": "a1ffbc19-5e2d-410f-a876-eb580fd063a5",
   "metadata": {},
   "outputs": [
    {
     "name": "stdout",
     "output_type": "stream",
     "text": [
      "['h', 'e', 'l', 'l', 'o', ' ', 'w', 'o', 'r', 'l', 'd']\n"
     ]
    }
   ],
   "source": [
    "#convert string to a list of characters\n",
    "s=\"hello world\"\n",
    "l=list(s)\n",
    "print(l)"
   ]
  },
  {
   "cell_type": "code",
   "execution_count": 4,
   "id": "6dd81bd7-19b6-40a6-933d-06169386af3d",
   "metadata": {},
   "outputs": [
    {
     "name": "stdout",
     "output_type": "stream",
     "text": [
      "the string are anagrams\n"
     ]
    }
   ],
   "source": [
    "#check if two strings are anagrams\n",
    "s1=\"two\"\n",
    "s_1=set(s1)\n",
    "s2=\"tow\"\n",
    "s_2=set(s2)\n",
    "if s_1==s_2:\n",
    "    print(\"the string are anagrams\")\n",
    "else: print(\"the strings are not anagrams\")\n"
   ]
  },
  {
   "cell_type": "code",
   "execution_count": 11,
   "id": "4abd1e37-1f03-4938-a1d1-7d9059c51dad",
   "metadata": {},
   "outputs": [
    {
     "name": "stdin",
     "output_type": "stream",
     "text": [
      "enter a string one into one is one\n"
     ]
    },
    {
     "name": "stdout",
     "output_type": "stream",
     "text": [
      "the list of unique words is: {'one', 'is', 'into'}\n"
     ]
    }
   ],
   "source": [
    "#find all unique words in a string\n",
    "str=input(\"enter a string\")\n",
    "s=set(str.split())\n",
    "    \n",
    "print(\"the list of unique words is:\", s)\n",
    "    "
   ]
  },
  {
   "cell_type": "code",
   "execution_count": 6,
   "id": "febaa2e3-b934-4441-a79c-af12feb95e72",
   "metadata": {},
   "outputs": [
    {
     "name": "stdin",
     "output_type": "stream",
     "text": [
      "enter a string hello! how are you?\n"
     ]
    },
    {
     "name": "stdout",
     "output_type": "stream",
     "text": [
      "the string contains special characters\n"
     ]
    }
   ],
   "source": [
    "#find if string contains any special characters\n",
    "n=input(\"enter a string\")\n",
    "n.split()\n",
    "c=0\n",
    "a='!~@#$%^&*()_+={}[]|\\:;\"\",./?'''\n",
    "for i in range(len(n)):\n",
    "    if n[i] in a:\n",
    "        c+=1\n",
    "if c:\n",
    "     print(\"the string contains special characters\")\n",
    "else: \n",
    "    print(\"string does not contain special characters\")\n"
   ]
  },
  {
   "cell_type": "code",
   "execution_count": 48,
   "id": "21a2fea3-4e80-49ee-a5d5-4dcab7881f6c",
   "metadata": {},
   "outputs": [
    {
     "name": "stdout",
     "output_type": "stream",
     "text": [
      "['hello!', 'what', 'is', 'name?']\n"
     ]
    }
   ],
   "source": [
    "#remove nth word from a string\n",
    "n=3\n",
    "str=\"hello! what is your name?\"\n",
    "a=str.split()\n",
    "a.pop(n)\n",
    "print(a)"
   ]
  },
  {
   "cell_type": "code",
   "execution_count": 5,
   "id": "ee09d07c-c8e3-4fb4-a7c6-0e83e1ed7594",
   "metadata": {},
   "outputs": [
    {
     "data": {
      "text/plain": [
       "[1, 2, 3, 4, 5, 6, 7, 8, 9, 10]"
      ]
     },
     "execution_count": 5,
     "metadata": {},
     "output_type": "execute_result"
    }
   ],
   "source": [
    "#list with integers from 1 to 10\n",
    "l1=[1,2,3,4,5,6,7,8,9,10]\n",
    "l1"
   ]
  },
  {
   "cell_type": "code",
   "execution_count": 8,
   "id": "f3b99586-84aa-4660-9d6b-3d398ad49f1c",
   "metadata": {},
   "outputs": [
    {
     "name": "stdout",
     "output_type": "stream",
     "text": [
      "10\n"
     ]
    }
   ],
   "source": [
    "# length of a list without using len() function\n",
    "c=0\n",
    "for i in l1 :\n",
    "    c+=1\n",
    "print (c)"
   ]
  },
  {
   "cell_type": "code",
   "execution_count": 3,
   "id": "122bbb6f-6e2a-4dc4-90b6-ca96675fc570",
   "metadata": {},
   "outputs": [
    {
     "name": "stdout",
     "output_type": "stream",
     "text": [
      "[1, 2, 3, 4, 5, 6, 7, 8, 9, 10, 11]\n"
     ]
    }
   ],
   "source": [
    "#append an element to the last of a list\n",
    "l1=[1,2,3,4,5,6,7,8,9,10]\n",
    "l1.append(11) \n",
    "print(l1)"
   ]
  },
  {
   "cell_type": "code",
   "execution_count": 5,
   "id": "263c1f5c-c1c1-4e25-b8d4-9ec1b34cf227",
   "metadata": {},
   "outputs": [
    {
     "data": {
      "text/plain": [
       "[1, 2, 3, 4, 5, 'five', 12, 6, 7, 8, 9, 10, 11]"
      ]
     },
     "execution_count": 5,
     "metadata": {},
     "output_type": "execute_result"
    }
   ],
   "source": [
    "#insert an element at a specific index\n",
    "l1.insert(5,\"five\")\n",
    "l1"
   ]
  },
  {
   "cell_type": "code",
   "execution_count": 6,
   "id": "d5ae264f-d647-46ad-a958-c71174ec9823",
   "metadata": {},
   "outputs": [
    {
     "data": {
      "text/plain": [
       "[1, 3, 4, 5, 'five', 12, 6, 7, 8, 9, 10, 11]"
      ]
     },
     "execution_count": 6,
     "metadata": {},
     "output_type": "execute_result"
    }
   ],
   "source": [
    "#remove an element from a list by its value\n",
    "l1.remove(2)\n",
    "l1"
   ]
  },
  {
   "cell_type": "code",
   "execution_count": 14,
   "id": "a50ec199-73b3-4dc4-896f-c68c762ac9cf",
   "metadata": {},
   "outputs": [
    {
     "data": {
      "text/plain": [
       "[1, 2, 4, 5, 6, 7, 8, 9, 10]"
      ]
     },
     "execution_count": 14,
     "metadata": {},
     "output_type": "execute_result"
    }
   ],
   "source": [
    "#remove an element from list by index\n",
    "l1=[1,2,3,4,5,6,7,8,9,10]\n",
    "l1.pop(2)\n",
    "l1"
   ]
  },
  {
   "cell_type": "code",
   "execution_count": 18,
   "id": "167afe51-b271-4a3d-9c2a-d4b123ecfa08",
   "metadata": {},
   "outputs": [
    {
     "name": "stdin",
     "output_type": "stream",
     "text": [
      "enter element to be found: 24\n"
     ]
    },
    {
     "name": "stdout",
     "output_type": "stream",
     "text": [
      "element not found in list\n"
     ]
    }
   ],
   "source": [
    "#check if an element exists in a list\n",
    "ele=input(\"enter element to be found:\")\n",
    "if ele in l1:\n",
    "    print(\"element exists in list\")\n",
    "else:\n",
    "    print(\"element not found in list\")\n",
    "            "
   ]
  },
  {
   "cell_type": "code",
   "execution_count": 23,
   "id": "0c66cb55-aecb-41a1-90d4-0d5ec1c27e3a",
   "metadata": {},
   "outputs": [
    {
     "data": {
      "text/plain": [
       "2"
      ]
     },
     "execution_count": 23,
     "metadata": {},
     "output_type": "execute_result"
    }
   ],
   "source": [
    "#find index of first occurence of an element in a list:\n",
    "l1.index(4)"
   ]
  },
  {
   "cell_type": "code",
   "execution_count": 7,
   "id": "f11c4d8d-ecfb-47e0-a770-8f0c3ff86709",
   "metadata": {
    "tags": []
   },
   "outputs": [
    {
     "data": {
      "text/plain": [
       "2"
      ]
     },
     "execution_count": 7,
     "metadata": {},
     "output_type": "execute_result"
    }
   ],
   "source": [
    "# count occurences of element in a list\n",
    "l=list('apple')\n",
    "l.count('p')"
   ]
  },
  {
   "cell_type": "code",
   "execution_count": 16,
   "id": "5cb1abc1-f07a-4e8a-a036-fc2d1fc8d0fc",
   "metadata": {},
   "outputs": [
    {
     "data": {
      "text/plain": [
       "['e', 'l', 'p', 'p', 'a']"
      ]
     },
     "execution_count": 16,
     "metadata": {},
     "output_type": "execute_result"
    }
   ],
   "source": [
    "#reverse the order of elements in a string\n",
    "l=list(\"apple\")\n",
    "l.reverse()\n",
    "l"
   ]
  },
  {
   "cell_type": "code",
   "execution_count": 2,
   "id": "ea921161-8065-4f84-b3e5-06cde0a6448c",
   "metadata": {},
   "outputs": [
    {
     "data": {
      "text/plain": [
       "[2, 4, 6, 12, 18, 79, 89, 89, 98]"
      ]
     },
     "execution_count": 2,
     "metadata": {},
     "output_type": "execute_result"
    }
   ],
   "source": [
    "#sort list in ascending order\n",
    "l=[2,4,6,89,12,79,98,18,89]\n",
    "l.sort()\n",
    "l"
   ]
  },
  {
   "cell_type": "code",
   "execution_count": 4,
   "id": "bdbe8f32-eea5-45f4-8b02-ff3850f1b170",
   "metadata": {},
   "outputs": [
    {
     "data": {
      "text/plain": [
       "[98, 89, 89, 79, 18, 12, 6, 4, 2]"
      ]
     },
     "execution_count": 4,
     "metadata": {},
     "output_type": "execute_result"
    }
   ],
   "source": [
    "#sort list in descending order\n",
    "l=[2,4,6,89,12,79,98,18,89]\n",
    "l.sort(reverse=True)\n",
    "l"
   ]
  },
  {
   "cell_type": "code",
   "execution_count": 7,
   "id": "517fb4ac-9864-4159-9807-42c8fc165a34",
   "metadata": {},
   "outputs": [
    {
     "data": {
      "text/plain": [
       "[2, 4, 6, 8, 10, 12, 14, 16, 18, 20]"
      ]
     },
     "execution_count": 7,
     "metadata": {},
     "output_type": "execute_result"
    }
   ],
   "source": [
    "#list of even numbers from 1 to 20\n",
    "l1=list(range(2,21,2))\n",
    "l1"
   ]
  },
  {
   "cell_type": "code",
   "execution_count": 8,
   "id": "2195881e-cae0-4e37-a3e5-c41b64c3fa6b",
   "metadata": {},
   "outputs": [
    {
     "data": {
      "text/plain": [
       "[1, 3, 5, 7, 9, 11, 13, 15, 17, 19]"
      ]
     },
     "execution_count": 8,
     "metadata": {},
     "output_type": "execute_result"
    }
   ],
   "source": [
    "#list of odd numbers from 1 to 20\n",
    "l2=list(range(1,20,2))\n",
    "l2"
   ]
  },
  {
   "cell_type": "code",
   "execution_count": 11,
   "id": "1e994f33-f38c-4684-855a-2ccd02cdc582",
   "metadata": {},
   "outputs": [
    {
     "name": "stdout",
     "output_type": "stream",
     "text": [
      "100\n"
     ]
    }
   ],
   "source": [
    "#sum of all elements of a list\n",
    "sum=0\n",
    "for i in l2:\n",
    "    sum=sum+i\n",
    "print(sum)"
   ]
  },
  {
   "cell_type": "code",
   "execution_count": 24,
   "id": "f4a7fd98-02a1-4082-8868-365182de3915",
   "metadata": {},
   "outputs": [
    {
     "name": "stdout",
     "output_type": "stream",
     "text": [
      "the maximum value is: 98\n"
     ]
    }
   ],
   "source": [
    "#maximum value in a list\n",
    "l=[2,4,6,89,12,79,98,18,89]\n",
    "l.sort()\n",
    "print(\"the maximum value is:\", l[-1])"
   ]
  },
  {
   "cell_type": "code",
   "execution_count": 25,
   "id": "4a3cd4e7-c25b-46ef-9ee1-2979429a562f",
   "metadata": {},
   "outputs": [
    {
     "name": "stdout",
     "output_type": "stream",
     "text": [
      "the minimum value is: 2\n"
     ]
    }
   ],
   "source": [
    "#minimum value in a list\n",
    "l=[2,4,6,89,12,79,98,18,89]\n",
    "l.sort()\n",
    "print(\"the minimum value is:\", l[0])"
   ]
  },
  {
   "cell_type": "code",
   "execution_count": 37,
   "id": "2234664a-6495-4a5f-b3ba-5dba056c292f",
   "metadata": {},
   "outputs": [
    {
     "name": "stdout",
     "output_type": "stream",
     "text": [
      "[1, 4, 9, 16, 25, 36, 49, 64, 81, 100]\n"
     ]
    }
   ],
   "source": [
    "#list of squares from 1 to 10\n",
    "sqr=list(range(1,11))\n",
    "sqr_list=[i**2 for i in sqr]\n",
    "print(sqr_list) \n",
    "    "
   ]
  },
  {
   "cell_type": "code",
   "execution_count": 44,
   "id": "746a8bee-b441-4a0d-83ae-b1cc5e7da97c",
   "metadata": {},
   "outputs": [
    {
     "name": "stdout",
     "output_type": "stream",
     "text": [
      "[15, 0, 12, 1, 17, 4, 2, 5, 3, 16]\n"
     ]
    }
   ],
   "source": [
    "#list of random numbers\n",
    "import random\n",
    "randlist = [random.randint(0, 20) for _ in range(10)]\n",
    "print(randlist)"
   ]
  },
  {
   "cell_type": "code",
   "execution_count": 45,
   "id": "3dfa5a00-2b93-4038-89b5-ac8d1bb1f1fd",
   "metadata": {},
   "outputs": [
    {
     "data": {
      "text/plain": [
       "{2, 4, 6, 12, 18, 79, 89, 98}"
      ]
     },
     "execution_count": 45,
     "metadata": {},
     "output_type": "execute_result"
    }
   ],
   "source": [
    "#remove duplicates from list\n",
    "list=set(l)\n",
    "list"
   ]
  },
  {
   "cell_type": "code",
   "execution_count": 46,
   "id": "bdc77c7e-fc76-4800-b87f-bf4be870b9ef",
   "metadata": {},
   "outputs": [
    {
     "name": "stdout",
     "output_type": "stream",
     "text": [
      "The common elements are: {2, 3, 5}\n"
     ]
    }
   ],
   "source": [
    "#find common elements in two list\n",
    "a = [1, 2, 3, 4, 5]\n",
    "b = [5, 2, 6, 3, 9]\n",
    "result = (set(a) & set(b))\n",
    "if result:\n",
    "   print(\"The common elements are:\", result)\n",
    "else:\n",
    "   print(\"No common elements present in two arrays\")"
   ]
  },
  {
   "cell_type": "code",
   "execution_count": 47,
   "id": "2f4b69cd-da1e-44dc-a08d-bb9232714a47",
   "metadata": {},
   "outputs": [
    {
     "name": "stdout",
     "output_type": "stream",
     "text": [
      "the merged list is: [1, 2, 3, 4, 5, 5, 2, 6, 3, 9]\n"
     ]
    }
   ],
   "source": [
    "#merge two list\n",
    "c=a+b\n",
    "print(\"the merged list is:\",c)"
   ]
  },
  {
   "cell_type": "code",
   "execution_count": 49,
   "id": "e63cbca6-f8a7-43c8-a22b-fcf98e1e0424",
   "metadata": {},
   "outputs": [
    {
     "name": "stdout",
     "output_type": "stream",
     "text": [
      "[2, 4, 6, 8, 10]\n"
     ]
    }
   ],
   "source": [
    "# Multiply all elements in a list by 2.\n",
    "c1=[n*2 for n in a]\n",
    "print(c1)"
   ]
  },
  {
   "cell_type": "code",
   "execution_count": 54,
   "id": "44fc762b-5c5c-45e3-b7d2-15d9354bcd44",
   "metadata": {},
   "outputs": [
    {
     "name": "stdout",
     "output_type": "stream",
     "text": [
      "[2, 4, 6, 8, 10, 12, 56]\n"
     ]
    }
   ],
   "source": [
    "# Filter out all even numbers from a list.\n",
    "c2=[2,3,4,5,6,7,8,9,10,12,56,45,25,59]\n",
    "c3=[]\n",
    "for i in c2:\n",
    "    if i%2==0:\n",
    "        c3.append(i)\n",
    "print(c3)"
   ]
  },
  {
   "cell_type": "code",
   "execution_count": 61,
   "id": "94acbce1-f333-4f64-92f8-d514bf729aa4",
   "metadata": {},
   "outputs": [
    {
     "name": "stdout",
     "output_type": "stream",
     "text": [
      "[1, 2, 3, 4]\n"
     ]
    }
   ],
   "source": [
    "# Convert a list of strings to a list of integers.\n",
    "a=['1', '2','3','4']\n",
    "print([int(x) for x in a])"
   ]
  },
  {
   "cell_type": "code",
   "execution_count": 1,
   "id": "8183f2dd-5a65-4a10-8b25-9dbc26e1294e",
   "metadata": {},
   "outputs": [
    {
     "name": "stdout",
     "output_type": "stream",
     "text": [
      "['1', '2', '3', '4', '5']\n"
     ]
    }
   ],
   "source": [
    "# Convert a list of integers to a list of string.\n",
    "a=[1,2,3,4,5]\n",
    "print([str(x) for x in a])"
   ]
  },
  {
   "cell_type": "code",
   "execution_count": 2,
   "id": "a0508110-9a45-4ee1-9704-07dff60737b6",
   "metadata": {},
   "outputs": [
    {
     "name": "stdout",
     "output_type": "stream",
     "text": [
      "[1, 2, 3, 4, 5, 6, 7]\n"
     ]
    }
   ],
   "source": [
    "# Flatten a nested list.\n",
    "my_list = [[1], [2, 3], [4, 5, 6, 7]]\n",
    "\n",
    "flat_list = []\n",
    "for sublist in my_list:\n",
    "    for num in sublist:\n",
    "        flat_list.append(num)\n",
    "\n",
    "print(flat_list)"
   ]
  },
  {
   "cell_type": "code",
   "execution_count": 12,
   "id": "b19afeff-5bc3-4411-9ff1-528159cd9991",
   "metadata": {},
   "outputs": [
    {
     "name": "stdin",
     "output_type": "stream",
     "text": [
      "Enter the number of terms:  10\n"
     ]
    },
    {
     "name": "stdout",
     "output_type": "stream",
     "text": [
      "[0, 1, 1, 2, 3, 5, 8, 13, 21, 34]\n"
     ]
    }
   ],
   "source": [
    "#list of 1st 10 fibonacci number.\n",
    "n1,n2=0,1\n",
    "n=int(input(\"Enter the number of terms: \"))\n",
    "i=2\n",
    "List=[n1,n2]\n",
    "while i<n:\n",
    "  n3=n1+n2\n",
    "  List.append(n3)\n",
    "  n1=n2\n",
    "  n2=n3\n",
    "  i+=1\n",
    "print(List)\n",
    "    "
   ]
  },
  {
   "cell_type": "code",
   "execution_count": 13,
   "id": "dd408a3c-369c-4db2-8fa1-b1c876068de2",
   "metadata": {},
   "outputs": [
    {
     "name": "stdout",
     "output_type": "stream",
     "text": [
      "Original list : [10, 4, 5, 8, 10]\n",
      "No, List is not sorted.\n"
     ]
    }
   ],
   "source": [
    "#check if list is sorted\n",
    "test_list = [10, 4, 5, 8, 10]\n",
    "print (\"Original list : \" + str(test_list))\n",
    "flag = 0\n",
    "test_list1 = test_list[:]\n",
    "test_list1.sort()\n",
    "if (test_list1 == test_list):\n",
    "    flag = 1\n",
    "if (flag) :\n",
    "    print (\"Yes, List is sorted.\")\n",
    "else :\n",
    "    print (\"No, List is not sorted.\")"
   ]
  },
  {
   "cell_type": "code",
   "execution_count": 1,
   "id": "27bd578a-5682-43c8-92d5-3e3d51479d70",
   "metadata": {},
   "outputs": [
    {
     "name": "stdout",
     "output_type": "stream",
     "text": [
      "[5, 6, 7, 2, 3, 4]\n"
     ]
    }
   ],
   "source": [
    "#rotate a list by n to the left\n",
    "list=[2,3,4,5,6,7]\n",
    "list_new=list[3:]+list[:3]\n",
    "print(list_new)"
   ]
  },
  {
   "cell_type": "code",
   "execution_count": 2,
   "id": "05c592c0-5513-4195-8c70-998aae88b022",
   "metadata": {},
   "outputs": [
    {
     "name": "stdout",
     "output_type": "stream",
     "text": [
      "[2, 3, 4, 5, 6, 7]\n"
     ]
    }
   ],
   "source": [
    "#rotate a list by n to the right\n",
    "list1=[2,3,4,5,6,7]\n",
    "list_new1=list[:-3]+list[-3:]\n",
    "print(list_new1)"
   ]
  },
  {
   "cell_type": "code",
   "execution_count": 6,
   "id": "b607b9e1-7037-4a22-87c8-29206ea01dbe",
   "metadata": {},
   "outputs": [
    {
     "name": "stdout",
     "output_type": "stream",
     "text": [
      "[2, 3, 5, 7, 11, 13, 17, 19, 23, 29, 31, 37, 41, 43, 47]\n"
     ]
    }
   ],
   "source": [
    "#prime numbers upto 50\n",
    "print([i for i in range(2, 50) if 0 not in [i%n for n in range(2, i)]])"
   ]
  },
  {
   "cell_type": "code",
   "execution_count": 7,
   "id": "060181bf-511a-4812-946b-22cdc5d7af44",
   "metadata": {},
   "outputs": [
    {
     "name": "stdout",
     "output_type": "stream",
     "text": [
      "[1, 2, 3]\n",
      "[4, 5, 6]\n",
      "[7, 8, 9]\n"
     ]
    }
   ],
   "source": [
    "#split a list in chunks of size n\n",
    "my_list = [1, 2, 3, 4, 5, \n",
    "           6, 7, 8, 9] \n",
    "start = 0\n",
    "end = len(my_list) \n",
    "step = 3\n",
    "for i in range(start, end, step): \n",
    "    x = i \n",
    "    print(my_list[x:x+step])"
   ]
  },
  {
   "cell_type": "code",
   "execution_count": 11,
   "id": "02aa1464-8e2b-491b-81d6-a5a47b2ad21e",
   "metadata": {},
   "outputs": [
    {
     "name": "stdout",
     "output_type": "stream",
     "text": [
      "the second largest number is: 788\n"
     ]
    }
   ],
   "source": [
    "#Find the second largest number in a list\n",
    "li=[21,2,3,43,56,7,78,9,12,23,4,523,45,788,1000,29]\n",
    "li.sort()\n",
    "print(\"the second largest number is:\", li[-2])"
   ]
  },
  {
   "cell_type": "code",
   "execution_count": 23,
   "id": "723a65a5-9cb7-45f0-9de7-1aacd91a3be1",
   "metadata": {},
   "outputs": [
    {
     "name": "stdout",
     "output_type": "stream",
     "text": [
      "[1, 2, 3, 4, 5, 6, 7, 8, 9, 10, 11, 12, 13, 14, 15, 16, 17, 18, 19, 20]\n",
      "[1, 4, 9, 16, 25, 36, 49, 64, 81, 100, 121, 144, 169, 196, 225, 256, 289, 324, 361, 400]\n"
     ]
    }
   ],
   "source": [
    "#Replace every element in a list with its square.\n",
    "li=[]\n",
    "for i in range(1,21):\n",
    "    li.append(i)\n",
    "print(li)\n",
    "li_new=[i**2 for i in li]\n",
    "print(li_new)"
   ]
  },
  {
   "cell_type": "code",
   "execution_count": 28,
   "id": "68879f4f-809b-43ce-b0f7-8a46622d1d84",
   "metadata": {},
   "outputs": [
    {
     "name": "stdout",
     "output_type": "stream",
     "text": [
      "[23, 12, 788, 4, 45, 3, 43, 56, 9, 523, 78, 1000, 21, 7, 2, 29]\n"
     ]
    }
   ],
   "source": [
    "#Shuffle the elements of a list randomly.\n",
    "import random\n",
    "\n",
    "li=[21,2,3,43,56,7,78,9,12,23,4,523,45,788,1000,29]\n",
    "random.shuffle(li)\n",
    "\n",
    "print(li)"
   ]
  },
  {
   "cell_type": "code",
   "execution_count": 31,
   "id": "15cb1e6f-b3ae-4c7a-af06-22ee6b0cb466",
   "metadata": {},
   "outputs": [
    {
     "name": "stdout",
     "output_type": "stream",
     "text": [
      "[1, 2, 3, 4, 5, 6, 7, 8, 9, 10]\n",
      "[1, 2, 6, 24, 120, 720, 5040, 40320, 362880, 3628800]\n"
     ]
    }
   ],
   "source": [
    "#Create a list of the first 10 factorial numbers.\n",
    "import math\n",
    "li=[i for i in range(1,11)]\n",
    "print(li)\n",
    "fact_li=[math.factorial(x) for x in li]\n",
    "print(fact_li)"
   ]
  },
  {
   "cell_type": "code",
   "execution_count": 6,
   "id": "f819d240-93c3-4614-80d2-5f32c6f3530c",
   "metadata": {},
   "outputs": [
    {
     "name": "stdout",
     "output_type": "stream",
     "text": [
      "list of common elements is: [1, 2, 4, 6]\n"
     ]
    }
   ],
   "source": [
    "#Check if two lists have at least one element in common\n",
    "list1=[1,2,3,4,5,6,7]\n",
    "list2=[2,4,6,8,9,0,1]\n",
    "set1=set(list1)\n",
    "set2=set(list2)\n",
    "list3=[]\n",
    "for i in set1:\n",
    "    for j in set2:\n",
    "        if i==j:\n",
    "            list3.append(i)\n",
    "print(\"list of common elements is:\",list3)\n"
   ]
  },
  {
   "cell_type": "code",
   "execution_count": 9,
   "id": "69857568-61eb-4813-8b3d-30ec23be247c",
   "metadata": {},
   "outputs": [
    {
     "name": "stdout",
     "output_type": "stream",
     "text": [
      "[]\n"
     ]
    }
   ],
   "source": [
    "#remove all elements in a list\n",
    "list1.clear()\n",
    "print(list1)"
   ]
  },
  {
   "cell_type": "code",
   "execution_count": 14,
   "id": "af1ca2ef-bf97-4be8-8391-8c4a87bb9b55",
   "metadata": {},
   "outputs": [
    {
     "name": "stdout",
     "output_type": "stream",
     "text": [
      "[0, 2, 9, 0, 89, 0]\n"
     ]
    }
   ],
   "source": [
    "#Replace negative numbers in a list with 0.\n",
    "list4=[-1,2,9,-3,89,-45]\n",
    "for i in range(len(list4)):\n",
    "    if list4[i]<0:\n",
    "        list4[i]=0\n",
    "        \n",
    "print(list4)\n"
   ]
  },
  {
   "cell_type": "code",
   "execution_count": 2,
   "id": "d2d06b6e-0adf-47c2-b4ee-970c57c3470b",
   "metadata": {},
   "outputs": [
    {
     "name": "stdout",
     "output_type": "stream",
     "text": [
      "['This', 'is', 'a', 'sentence']\n"
     ]
    }
   ],
   "source": [
    "#Convert a string into a list of words.\n",
    "str1=\"This is a sentence\"\n",
    "list_new=str1.split()\n",
    "print(list_new)"
   ]
  },
  {
   "cell_type": "code",
   "execution_count": 3,
   "id": "8c10d435-55d3-4dd2-b8a4-d3a77b0afb61",
   "metadata": {},
   "outputs": [
    {
     "name": "stdout",
     "output_type": "stream",
     "text": [
      "This is a sentence\n"
     ]
    }
   ],
   "source": [
    "#Convert a list of words into a string.\n",
    "str2=\" \".join(list_new)\n",
    "print(str2)"
   ]
  },
  {
   "cell_type": "code",
   "execution_count": 9,
   "id": "694d98c1-d33d-49de-b750-5fecf845e884",
   "metadata": {},
   "outputs": [
    {
     "name": "stdin",
     "output_type": "stream",
     "text": [
      "value of n: 10\n"
     ]
    },
    {
     "name": "stdout",
     "output_type": "stream",
     "text": [
      "[2, 4, 8, 16, 32, 64, 128, 256, 512, 1024]\n"
     ]
    }
   ],
   "source": [
    "#Create a list of the first `n` powers of 2\n",
    "x=int(input(\"value of n:\"))\n",
    "list_pow=[2**i for i in range(1,x+1)]\n",
    "print(list_pow)\n"
   ]
  },
  {
   "cell_type": "code",
   "execution_count": 22,
   "id": "39789ca0-6668-4174-8383-b9d5678d9618",
   "metadata": {},
   "outputs": [
    {
     "name": "stdout",
     "output_type": "stream",
     "text": [
      "the longest string is: i live in new york and its length is: 18\n"
     ]
    }
   ],
   "source": [
    "#Find the longest string in a list of strings.\n",
    "list_of_str=[\"my name is rita\",\"i live in new york\",\"i am an engineer\"]\n",
    "longest = max(list_of_str, key=len)\n",
    "print(\"the longest string is:\",longest, \"and its length is:\",len(longest))"
   ]
  },
  {
   "cell_type": "code",
   "execution_count": 23,
   "id": "edb2720b-8e91-46ce-87b4-23287190a62e",
   "metadata": {},
   "outputs": [
    {
     "name": "stdout",
     "output_type": "stream",
     "text": [
      "the shortest string is: my name is rita and its length is: 15\n"
     ]
    }
   ],
   "source": [
    "#Find the shortest string in a list of strings.\n",
    "list_of_str=[\"my name is rita\",\"i live in new york\",\"i am an engineer\"]\n",
    "shortest = min(list_of_str, key=len)\n",
    "print(\"the shortest string is:\",shortest, \"and its length is:\",len(shortest))"
   ]
  },
  {
   "cell_type": "code",
   "execution_count": 32,
   "id": "b60af3e4-22ff-4c34-a9e2-094f73ca6d93",
   "metadata": {},
   "outputs": [
    {
     "name": "stdin",
     "output_type": "stream",
     "text": [
      "the value of n: 9\n"
     ]
    },
    {
     "name": "stdout",
     "output_type": "stream",
     "text": [
      "[1, 3, 6, 10, 15, 21, 28, 36, 45]\n"
     ]
    }
   ],
   "source": [
    "# Create a list of the first `n` triangular numbers\n",
    "x=int(input(\"the value of n:\"))\n",
    "j = 1\n",
    "k = 1\n",
    "list6=[]\n",
    "for i in range(1, x + 1):\n",
    "    list6.append(k)\n",
    "    j = j + 1         \n",
    "    k = k + j\n",
    "print(list6)"
   ]
  },
  {
   "cell_type": "code",
   "execution_count": 3,
   "id": "d025f137-689b-41e9-92c4-8bf423332105",
   "metadata": {},
   "outputs": [
    {
     "data": {
      "text/plain": [
       "True"
      ]
     },
     "execution_count": 3,
     "metadata": {},
     "output_type": "execute_result"
    }
   ],
   "source": [
    "# Check if a list contains another list as a subsequence\n",
    "list1=[1,2,3,4,5,6,7]\n",
    "list2=[2,3,4]\n",
    "all(item in list1 for item in list2)"
   ]
  },
  {
   "cell_type": "code",
   "execution_count": 13,
   "id": "29f21280-a66e-4f7a-9fb7-3ce0b672535d",
   "metadata": {},
   "outputs": [
    {
     "name": "stdin",
     "output_type": "stream",
     "text": [
      "enter the value of index 1 5\n",
      "enter the value of index 2 3\n"
     ]
    },
    {
     "name": "stdout",
     "output_type": "stream",
     "text": [
      "[2, 3, 45, 12, 10, 60, 4, 8, 20]\n"
     ]
    }
   ],
   "source": [
    "#Swap two elements in a list by their indices\n",
    "list1=[2,3,4,45,10,12,60,8,20]\n",
    "pos1=int(input(\"enter the value of index 1\"))\n",
    "pos2=int(input(\"enter the value of index 2\"))\n",
    "first_ele=list1.pop(pos1)\n",
    "second_ele=list1.pop(pos2-1)\n",
    "list1.insert(pos1,second_ele)\n",
    "list1.insert(pos2,first_ele)\n",
    "print(list1)"
   ]
  },
  {
   "cell_type": "code",
   "execution_count": 3,
   "id": "dbcc027b-f9ec-4c15-bfa3-537b9453e009",
   "metadata": {},
   "outputs": [
    {
     "name": "stdout",
     "output_type": "stream",
     "text": [
      "(1, 2, 3, 4, 5)\n"
     ]
    },
    {
     "data": {
      "text/plain": [
       "tuple"
      ]
     },
     "execution_count": 3,
     "metadata": {},
     "output_type": "execute_result"
    }
   ],
   "source": [
    "#tuple with integers from 1 to 5\n",
    "t1=(1,2,3,4,5)\n",
    "print(t1)\n",
    "type(t1)"
   ]
  },
  {
   "cell_type": "code",
   "execution_count": 4,
   "id": "221f1968-6d03-41f8-aab1-e5fdc8d02b98",
   "metadata": {},
   "outputs": [
    {
     "data": {
      "text/plain": [
       "4"
      ]
     },
     "execution_count": 4,
     "metadata": {},
     "output_type": "execute_result"
    }
   ],
   "source": [
    "#Access the third element of a tuple\n",
    "t1[3]"
   ]
  },
  {
   "cell_type": "code",
   "execution_count": 7,
   "id": "5a5f5bae-e9a2-4c11-8830-bc861803cdb5",
   "metadata": {},
   "outputs": [
    {
     "name": "stdout",
     "output_type": "stream",
     "text": [
      "5\n"
     ]
    }
   ],
   "source": [
    "#Find the length of a tuple without using the `len()` function.\n",
    "count=0\n",
    "for i in t1:\n",
    "    count+=1\n",
    "print(count)"
   ]
  },
  {
   "cell_type": "code",
   "execution_count": 5,
   "id": "5b9d7f7f-e784-4f3f-8654-25f252fabbfc",
   "metadata": {},
   "outputs": [
    {
     "data": {
      "text/plain": [
       "3"
      ]
     },
     "execution_count": 5,
     "metadata": {},
     "output_type": "execute_result"
    }
   ],
   "source": [
    "#Count the occurrences of an element in a tuple.\n",
    "t2=(2,3,4,2,5,6,7,2,4,7,8,9)\n",
    "t2.count(2)"
   ]
  },
  {
   "cell_type": "code",
   "execution_count": 6,
   "id": "25615049-977b-4369-99b6-e68d5573c076",
   "metadata": {},
   "outputs": [
    {
     "data": {
      "text/plain": [
       "2"
      ]
     },
     "execution_count": 6,
     "metadata": {},
     "output_type": "execute_result"
    }
   ],
   "source": [
    "#Find the index of the first occurrence of an element in a tuple\n",
    "t2.index(4)"
   ]
  },
  {
   "cell_type": "code",
   "execution_count": 7,
   "id": "b0e8cc6e-3206-4c85-be2f-c916e9a2a638",
   "metadata": {},
   "outputs": [
    {
     "name": "stdin",
     "output_type": "stream",
     "text": [
      "element to be found: 5\n"
     ]
    },
    {
     "name": "stdout",
     "output_type": "stream",
     "text": [
      "element found\n"
     ]
    }
   ],
   "source": [
    "#Check if an element exists in a tuple.\n",
    "x=int(input(\"element to be found:\"))\n",
    "if x in t2:\n",
    "    print(\"element found\")\n",
    "else:\n",
    "    print(\"element ot found\")"
   ]
  },
  {
   "cell_type": "code",
   "execution_count": 8,
   "id": "1231aed7-9c3e-440f-b370-f136efbcdebd",
   "metadata": {},
   "outputs": [
    {
     "data": {
      "text/plain": [
       "[2, 3, 4, 2, 5, 6, 7, 2, 4, 7, 8, 9]"
      ]
     },
     "execution_count": 8,
     "metadata": {},
     "output_type": "execute_result"
    }
   ],
   "source": [
    "#Convert a tuple to a list\n",
    "list_t=list(t2)\n",
    "list_t"
   ]
  },
  {
   "cell_type": "code",
   "execution_count": 9,
   "id": "08a8eb72-a1c5-49b5-a684-d3b2fa86e122",
   "metadata": {},
   "outputs": [
    {
     "data": {
      "text/plain": [
       "(2, 3, 4, 2, 5, 6, 7, 2, 4, 7, 8, 9)"
      ]
     },
     "execution_count": 9,
     "metadata": {},
     "output_type": "execute_result"
    }
   ],
   "source": [
    "#Convert a list to a tuple\n",
    "tup=tuple(list_t)\n",
    "tup"
   ]
  },
  {
   "cell_type": "code",
   "execution_count": 11,
   "id": "73976d87-a9d4-4ddd-81c4-6264ddc745aa",
   "metadata": {},
   "outputs": [
    {
     "name": "stdout",
     "output_type": "stream",
     "text": [
      "apple\n",
      "2\n",
      "200\n"
     ]
    }
   ],
   "source": [
    "#Unpack the elements of a tuple into variables.\n",
    "a=(\"apple\",2,200)\n",
    "(fruit,quantity,rate)=a\n",
    "print(fruit)\n",
    "print(quantity)\n",
    "print(rate)\n"
   ]
  },
  {
   "cell_type": "code",
   "execution_count": 18,
   "id": "1a124f75-e0be-4919-a6db-c7f3e323f0bf",
   "metadata": {},
   "outputs": [
    {
     "name": "stdout",
     "output_type": "stream",
     "text": [
      "(2, 4, 6, 8, 10)\n"
     ]
    }
   ],
   "source": [
    "#Create a tuple of even numbers from 1 to 10.\n",
    "t2=tuple(list(range(2,12,2)))\n",
    "print(t2)\n"
   ]
  },
  {
   "cell_type": "code",
   "execution_count": 19,
   "id": "6eb2d616-b7c4-45f4-b667-f2ef7d946889",
   "metadata": {},
   "outputs": [
    {
     "name": "stdout",
     "output_type": "stream",
     "text": [
      "(1, 3, 5, 7, 9)\n"
     ]
    }
   ],
   "source": [
    "#Create a tuple of odd numbers from 1 to 10.\n",
    "t3=tuple(list(range(1,11,2)))\n",
    "print(t3)"
   ]
  },
  {
   "cell_type": "code",
   "execution_count": 20,
   "id": "bee21a34-ab58-49e2-ae05-7874c2bae7f7",
   "metadata": {},
   "outputs": [
    {
     "name": "stdout",
     "output_type": "stream",
     "text": [
      "(1, 2, 3, 4, 5, 2, 4, 6, 8, 10)\n"
     ]
    }
   ],
   "source": [
    "#Concatenate two tuples.\n",
    "t1=(1,2,3,4,5)\n",
    "t2=(2,4,6,8,10)\n",
    "t4=tuple(list(t1)+list(t2))\n",
    "print(t4)"
   ]
  },
  {
   "cell_type": "code",
   "execution_count": 9,
   "id": "6f1aead7-1100-42c4-bf4d-b8dba961038c",
   "metadata": {},
   "outputs": [
    {
     "name": "stdout",
     "output_type": "stream",
     "text": [
      "The elements of the given tuple are (1, 2, 3, 4)\n",
      "The tuple repeated N times is : ((1, 2, 3, 4), (1, 2, 3, 4), (1, 2, 3, 4))\n"
     ]
    }
   ],
   "source": [
    "#Repeat a tuple three times.\n",
    "t1 = (1,2,3,4)\n",
    "print(\"The elements of the given tuple are \" + str(t1))\n",
    "N = 3 \n",
    "t1_repeat = ((t1,) * N)  \n",
    "print(\"The tuple repeated N times is : \" + str(t1_repeat))"
   ]
  },
  {
   "cell_type": "code",
   "execution_count": 10,
   "id": "1c8bea92-a867-4bd9-8c4d-b21b47c03f63",
   "metadata": {},
   "outputs": [
    {
     "name": "stdout",
     "output_type": "stream",
     "text": [
      "tuple not empty\n"
     ]
    }
   ],
   "source": [
    "#Check if a tuple is empty.\n",
    "if t1==\" \":\n",
    "    print(\"tuple is empty\")\n",
    "else:\n",
    "    print(\"tuple not empty\")"
   ]
  },
  {
   "cell_type": "code",
   "execution_count": 11,
   "id": "0a8aeeb0-8d2c-4901-b3ba-ccb9b8559342",
   "metadata": {},
   "outputs": [
    {
     "name": "stdout",
     "output_type": "stream",
     "text": [
      "The original tuple 1 : ((3, 4),)\n",
      "The original tuple 2 : ((5, 6),)\n",
      "Tuples after Concatenating : ((3, 4), (5, 6))\n"
     ]
    }
   ],
   "source": [
    "# Create a nested tuple.\n",
    "test_tup1 = (3, 4),\n",
    "test_tup2 = (5, 6), \n",
    "print(\"The original tuple 1 : \" + str(test_tup1))\n",
    "print(\"The original tuple 2 : \" + str(test_tup2))\n",
    "res = test_tup1 + test_tup2 \n",
    "print(\"Tuples after Concatenating : \" + str(res))"
   ]
  },
  {
   "cell_type": "code",
   "execution_count": 14,
   "id": "d24fd121-4401-4512-aa16-1255c3e185dc",
   "metadata": {},
   "outputs": [
    {
     "name": "stdout",
     "output_type": "stream",
     "text": [
      "3\n"
     ]
    }
   ],
   "source": [
    "#Access the first element of a nested tuple.\n",
    "print(res[0][0])"
   ]
  },
  {
   "cell_type": "code",
   "execution_count": 17,
   "id": "96b14df4-f075-4b03-b5c8-195ebbf81b3e",
   "metadata": {},
   "outputs": [
    {
     "name": "stdout",
     "output_type": "stream",
     "text": [
      "1\n"
     ]
    }
   ],
   "source": [
    "# Create a tuple with a single element.\n",
    "tup1=(1)\n",
    "print(tup1)"
   ]
  },
  {
   "cell_type": "code",
   "execution_count": 22,
   "id": "ae1ffb3e-026f-447e-8b2a-7b815c8a1124",
   "metadata": {},
   "outputs": [
    {
     "name": "stdout",
     "output_type": "stream",
     "text": [
      "False\n",
      "False\n",
      "True\n",
      "False\n",
      "True\n"
     ]
    }
   ],
   "source": [
    "# Compare two tuples.\n",
    "tuple1 = (1, 2, 3)\n",
    "tuple2 = (1, 2, 4)\n",
    "print(tuple1 == tuple2)  \n",
    "print(tuple1 > tuple2)  \n",
    "print(tuple1 < tuple2) \n",
    "print(tuple1 >= tuple2)\n",
    "print(tuple1 <= tuple2) "
   ]
  },
  {
   "cell_type": "code",
   "execution_count": 28,
   "id": "8a8cfbe0-627c-4d6d-9656-8337b31a9e20",
   "metadata": {},
   "outputs": [],
   "source": [
    "# Delete a tuple.\n",
    "tuple1 = (1, 2, 3)\n",
    "del(tuple1)"
   ]
  },
  {
   "cell_type": "code",
   "execution_count": 5,
   "id": "ebd1b68d-6938-4a7e-a1c8-f5ce1adfbd11",
   "metadata": {},
   "outputs": [
    {
     "name": "stdout",
     "output_type": "stream",
     "text": [
      "(1, 3, 4, 5)\n"
     ]
    }
   ],
   "source": [
    "# Slice a tuple.\n",
    "t4=(1,3,4,5,6,2,6,3,67,87)\n",
    "print(t4[0:4])"
   ]
  },
  {
   "cell_type": "code",
   "execution_count": 7,
   "id": "4f6d3924-43a6-4078-ba92-c9ff4596aede",
   "metadata": {},
   "outputs": [
    {
     "name": "stdout",
     "output_type": "stream",
     "text": [
      "87\n"
     ]
    }
   ],
   "source": [
    "# Find the maximum value in a tuple.\n",
    "x=max(t4)\n",
    "print(x)"
   ]
  },
  {
   "cell_type": "code",
   "execution_count": 8,
   "id": "c3c8aa61-1851-4c23-bc25-2d82c5405f52",
   "metadata": {},
   "outputs": [
    {
     "name": "stdout",
     "output_type": "stream",
     "text": [
      "1\n"
     ]
    }
   ],
   "source": [
    "# Find the minimum value in a tuple.\n",
    "y=min(t4)\n",
    "print(y)\n"
   ]
  },
  {
   "cell_type": "code",
   "execution_count": 10,
   "id": "80836baa-8048-437a-9eec-ec5781cf97d9",
   "metadata": {},
   "outputs": [
    {
     "name": "stdout",
     "output_type": "stream",
     "text": [
      "('t', 'h', 'i', 's', ' ', 'i', 's', ' ', 'a', ' ', 'n', 'i', 'c', 'e', ' ', 'p', 'l', 'a', 'c', 'e', '.')\n"
     ]
    }
   ],
   "source": [
    "# Convert a string to a tuple of characters.\n",
    "str1=\"this is a nice place.\"\n",
    "tup1=tuple(str1)\n",
    "print(tup1)"
   ]
  },
  {
   "cell_type": "code",
   "execution_count": 18,
   "id": "16457839-75c3-4b21-8001-d70ee7046cab",
   "metadata": {},
   "outputs": [
    {
     "name": "stdout",
     "output_type": "stream",
     "text": [
      "this is a nice place.\n"
     ]
    }
   ],
   "source": [
    "#Convert a tuple of characters to a string\n",
    "str1= ''.join(tup1)\n",
    "print(str1)"
   ]
  },
  {
   "cell_type": "code",
   "execution_count": 20,
   "id": "84b997d3-4e20-49f8-845d-79b2c6e6f304",
   "metadata": {},
   "outputs": [
    {
     "name": "stdout",
     "output_type": "stream",
     "text": [
      "(2, -1, 'shikha', True, (2+6j), 0.89)\n"
     ]
    }
   ],
   "source": [
    "#Create a tuple from multiple data types.\n",
    "tup2=(2,-1,\"shikha\",True,2+6j,0.89)\n",
    "print(tup2)\n"
   ]
  },
  {
   "cell_type": "code",
   "execution_count": 23,
   "id": "63871997-9225-4bbf-9a70-66de53b84dab",
   "metadata": {},
   "outputs": [
    {
     "name": "stdout",
     "output_type": "stream",
     "text": [
      "tuples are identical\n"
     ]
    }
   ],
   "source": [
    "#Check if two tuples are identical.\n",
    "tup3=(2,-1,\"shikha\",True,2+6j,0.89)\n",
    "if tup2==tup3:\n",
    "    print(\"tuples are identical\")\n",
    "else:\n",
    "    print(\"tuples are not identical\")\n",
    "    \n",
    "    "
   ]
  },
  {
   "cell_type": "code",
   "execution_count": 31,
   "id": "18971923-dc11-47d3-93ee-698e803e2b1d",
   "metadata": {},
   "outputs": [
    {
     "name": "stdout",
     "output_type": "stream",
     "text": [
      "[-4, -1, 0, 2, 6, 7, 10]\n"
     ]
    }
   ],
   "source": [
    "#Sort the elements of a tuple.\n",
    "t5=(2,-1,0,-4,6,7,10)\n",
    "z=list(t5)\n",
    "z.sort(reverse=False)\n",
    "print(z)"
   ]
  },
  {
   "cell_type": "code",
   "execution_count": 11,
   "id": "47d28104-2440-47f7-8f93-1aaee2ba8e0e",
   "metadata": {},
   "outputs": [
    {
     "name": "stdout",
     "output_type": "stream",
     "text": [
      "original tuple is: (1, 3, 4, 5, 7, 6)\n",
      "modified tuple is: ('1', '3', '4', '5', '7', '6')\n"
     ]
    }
   ],
   "source": [
    "# Convert a tuple of integers to a tuple of strings.\n",
    "test_tuple=(1,3,4,5,7,6)\n",
    "print(\"original tuple is:\", str(test_tuple))\n",
    "test_tuple=tuple(map(str, test_tuple))\n",
    "print(\"modified tuple is:\", str(test_tuple))"
   ]
  },
  {
   "cell_type": "code",
   "execution_count": 6,
   "id": "f4eed954-fae2-407f-943e-45c08bc5e3f5",
   "metadata": {},
   "outputs": [
    {
     "name": "stdout",
     "output_type": "stream",
     "text": [
      "Original tuple is :  ('1', '4', '3', '6', '7')\n",
      "Modified tuple is :  (1, 4, 3, 6, 7)\n"
     ]
    }
   ],
   "source": [
    "#Convert a tuple of strings to a tuple of integers.\n",
    "test_tuple = ('1', '4', '3', '6', '7')\n",
    "print (\"Original tuple is : \", str(test_tuple))\n",
    "test_tuple = tuple(map(int, test_tuple))   \n",
    "print (\"Modified tuple is : \", str(test_tuple))"
   ]
  },
  {
   "cell_type": "code",
   "execution_count": 12,
   "id": "57309f8b-481b-44e2-938c-6ac73504f694",
   "metadata": {},
   "outputs": [
    {
     "name": "stdout",
     "output_type": "stream",
     "text": [
      "(1, 2, 3, 1, 3, 4, 5, 6, 2, 6, 3, 67, 87)\n"
     ]
    }
   ],
   "source": [
    "#merge two tuples\n",
    "tuple1 = (1, 2, 3)\n",
    "tuple2= (1,3,4,5,6,2,6,3,67,87)\n",
    "merged_tuple=tuple(list(tuple1+tuple2))\n",
    "print(merged_tuple)"
   ]
  },
  {
   "cell_type": "code",
   "execution_count": 16,
   "id": "b1436612-731c-4df3-8732-87dbaf4e9926",
   "metadata": {},
   "outputs": [
    {
     "name": "stdout",
     "output_type": "stream",
     "text": [
      "The tuple of list : ((4, 9), (2, 1), (5, 6))\n",
      "Tuple after flattening : (4, 9, 2, 1, 5, 6)\n"
     ]
    }
   ],
   "source": [
    "#Flatten a nested tuple.\n",
    "listTup = ((4, 9), (2, 1), (5 ,6))\n",
    "print(\"The tuple of list : \" + str(listTup))\n",
    "flatTup = tuple(sum(listTup,()))\n",
    "print(\"Tuple after flattening : \" + str(flatTup))"
   ]
  },
  {
   "cell_type": "code",
   "execution_count": 13,
   "id": "31e44219-9297-469a-920e-d7af25a2b2af",
   "metadata": {},
   "outputs": [
    {
     "name": "stdout",
     "output_type": "stream",
     "text": [
      "(2, 3, 5, 7, 11)\n"
     ]
    }
   ],
   "source": [
    "#Create a tuple of the first 5 prime numbers.\n",
    "primes = []\n",
    "n=10\n",
    "for i in range(2, n + 1):\n",
    "    for j in range(2, int(i ** 0.5) + 1):\n",
    "        if i%j == 0:\n",
    "            break\n",
    "        else:\n",
    "            primes.append(i)\n",
    "\n",
    "#prime_list = prime_numbers(11)\n",
    "print(tuple(prime_list))"
   ]
  },
  {
   "cell_type": "code",
   "execution_count": 15,
   "id": "d8104924-931f-49bc-8248-4cabd2b108b6",
   "metadata": {},
   "outputs": [
    {
     "name": "stdout",
     "output_type": "stream",
     "text": [
      "tuple is a palindrome\n"
     ]
    }
   ],
   "source": [
    "# Check if a tuple is a palindrome.\n",
    "test_tup=('m','a','d','a','m')\n",
    "if test_tup[0]==test_tup[-1]:\n",
    "    print(\"tuple is a palindrome\")\n",
    "else:\n",
    "    print(\"tuple is not a palindrome\")\n",
    "    "
   ]
  },
  {
   "cell_type": "code",
   "execution_count": 26,
   "id": "f7f3f2d0-da09-447d-8ee4-5aa63e34ed3a",
   "metadata": {},
   "outputs": [
    {
     "name": "stdout",
     "output_type": "stream",
     "text": [
      "(1, 4, 9, 16, 25)\n"
     ]
    }
   ],
   "source": [
    "#Create a tuple of squares of numbers from 1 to 5.\n",
    "tup_sqr=[]\n",
    "for i in range(1,6):\n",
    "    tup_sqr.append(i)\n",
    "#print(li)\n",
    "tup_sqr_new=[i**2 for i in tup_sqr]\n",
    "print(tuple(tup_sqr_new))\n"
   ]
  },
  {
   "cell_type": "code",
   "execution_count": 43,
   "id": "bd05d782-1f5d-4b63-bc0d-751a738e630b",
   "metadata": {},
   "outputs": [
    {
     "name": "stdout",
     "output_type": "stream",
     "text": [
      "(2, 4, 6, 8, 10, 12, 14, 16, 18, 20, 22, 24, 26, 28, 30, 32, 34, 36, 38, 40, 42, 44, 46, 48)\n"
     ]
    }
   ],
   "source": [
    "#Filter out all even numbers from a tuple.\n",
    "even=[]\n",
    "x=range(1,50)\n",
    "for i in x:\n",
    "    if i%2==0:\n",
    "        even.append(i)\n",
    "        i+=1\n",
    "print(tuple(even))        "
   ]
  },
  {
   "cell_type": "code",
   "execution_count": 47,
   "id": "843999cd-de5b-4b0a-89c7-ca3422036abe",
   "metadata": {},
   "outputs": [
    {
     "name": "stdout",
     "output_type": "stream",
     "text": [
      "(2, 4, 6, 8, 10, 12, 14, 16, 18)\n"
     ]
    }
   ],
   "source": [
    "# Multiply all elements in a tuple by 2.\n",
    "tup1=range(1,10)\n",
    "tup_new=[]\n",
    "for i in tup1:\n",
    "    tup_new.append(i*2)\n",
    "    i+=1\n",
    "print(tuple(tup_new))\n"
   ]
  },
  {
   "cell_type": "code",
   "execution_count": 49,
   "id": "e7ebb176-415f-4878-9d11-8a0160e52a99",
   "metadata": {},
   "outputs": [
    {
     "name": "stdout",
     "output_type": "stream",
     "text": [
      "(11, 4, 16, 10, 0, 16, 3, 17, 8, 16)\n"
     ]
    }
   ],
   "source": [
    "#Create a tuple of random numbers.\n",
    "import random\n",
    "rand_tup = [random.randint(0, 20) for _ in range(10)]\n",
    "print(tuple(rand_tup))\n"
   ]
  },
  {
   "cell_type": "code",
   "execution_count": 6,
   "id": "24313e3c-6497-4913-9b92-f41c69e4d9b8",
   "metadata": {},
   "outputs": [
    {
     "data": {
      "text/plain": [
       "False"
      ]
     },
     "execution_count": 6,
     "metadata": {},
     "output_type": "execute_result"
    }
   ],
   "source": [
    "# Check if a tuple is sorted.\n",
    "def is_tuple_sorted(t):\n",
    "    for i in range(1, len(t)):\n",
    "        if t[i] < t[i-1]:\n",
    "            return False\n",
    "    return True\n",
    "t=(1,5,2,6,9)\n",
    "is_tuple_sorted(t)"
   ]
  },
  {
   "cell_type": "code",
   "execution_count": 7,
   "id": "ba81567b-118e-4e68-9ad4-5c7cbfd8c5fe",
   "metadata": {},
   "outputs": [
    {
     "name": "stdout",
     "output_type": "stream",
     "text": [
      "(5, 6, 7, 2, 3, 4)\n"
     ]
    }
   ],
   "source": [
    "# Rotate a tuple to the left by `n` positions.\n",
    "tup_orig=(2,3,4,5,6,7)\n",
    "tup_new=tup_orig[3:]+tup_orig[:3]\n",
    "print(tup_new)"
   ]
  },
  {
   "cell_type": "code",
   "execution_count": 8,
   "id": "fb95a9c3-1649-403d-870d-fdc129854041",
   "metadata": {},
   "outputs": [
    {
     "name": "stdout",
     "output_type": "stream",
     "text": [
      "(2, 3, 4, 5, 6, 7)\n"
     ]
    }
   ],
   "source": [
    "# Rotate a tuple to the right by `n` positions.\n",
    "tup_orig=(2,3,4,5,6,7)\n",
    "tup_new1=tup_orig[:-3]+tup_orig[-3:]\n",
    "print(tup_new1)\n"
   ]
  },
  {
   "cell_type": "code",
   "execution_count": 10,
   "id": "4985b279-e345-4eba-99d9-602b3f2bf1ab",
   "metadata": {},
   "outputs": [
    {
     "name": "stdin",
     "output_type": "stream",
     "text": [
      "Enter the number of terms:  5\n"
     ]
    },
    {
     "name": "stdout",
     "output_type": "stream",
     "text": [
      "(0, 1, 1, 2, 3)\n"
     ]
    }
   ],
   "source": [
    "# Create a tuple of the first 5 Fibonacci numbers.\n",
    "n1,n2=0,1\n",
    "n=int(input(\"Enter the number of terms: \"))\n",
    "i=2\n",
    "tup_fib=[n1,n2]\n",
    "while i<n:\n",
    "  n3=n1+n2\n",
    "  tup_fib.append(n3)\n",
    "  n1=n2\n",
    "  n2=n3\n",
    "  i+=1\n",
    "print(tuple(tup_fib))\n"
   ]
  },
  {
   "cell_type": "code",
   "execution_count": 11,
   "id": "6a6f2d32-e6f2-49e5-a60e-98440a61b19e",
   "metadata": {},
   "outputs": [
    {
     "name": "stdin",
     "output_type": "stream",
     "text": [
      "Enter a comma-separated list of numbers:  1,2,5,2,6,4,9\n"
     ]
    },
    {
     "name": "stdout",
     "output_type": "stream",
     "text": [
      "('1', '2', '5', '2', '6', '4', '9')\n"
     ]
    }
   ],
   "source": [
    "# Create a tuple from user input\n",
    "user_input = input(\"Enter a comma-separated list of numbers: \")\n",
    "numbers = tuple(user_input.split(\",\"))\n",
    "print(numbers)"
   ]
  },
  {
   "cell_type": "code",
   "execution_count": 16,
   "id": "6ef4466c-5bee-444b-a5e1-da46a5730bbe",
   "metadata": {},
   "outputs": [
    {
     "name": "stdin",
     "output_type": "stream",
     "text": [
      "enter the value of index1: 5\n",
      "enter the value of index2: 3\n"
     ]
    },
    {
     "name": "stdout",
     "output_type": "stream",
     "text": [
      "(23, 4, 7, 56, 6, 4, 56)\n"
     ]
    }
   ],
   "source": [
    "#Swap two elements in a tuple\n",
    "original_tuple=[23,4,56,7,6,56,4]\n",
    "#print(original_tuple)\n",
    "pos1=int(input(\"enter the value of index1:\"))\n",
    "pos2=int(input(\"enter the value of index2:\"))\n",
    "first_ele=original_tuple.pop(pos1)\n",
    "second_ele=original_tuple.pop(pos2-1)\n",
    "original_tuple.insert(pos1,second_ele)\n",
    "original_tuple.insert(pos2,first_ele)\n",
    "print(tuple(original_tuple))"
   ]
  },
  {
   "cell_type": "code",
   "execution_count": 18,
   "id": "40ec79fa-ce89-4c3c-aba4-6e9337622ddd",
   "metadata": {},
   "outputs": [
    {
     "name": "stdout",
     "output_type": "stream",
     "text": [
      "original tuple: [23, 4, 56, 7, 6, 56, 4]\n",
      "reversed tuple: [4, 56, 6, 7, 56, 4, 23]\n"
     ]
    }
   ],
   "source": [
    "#Reverse the elements of a tuple.\n",
    "original_tuple=[23,4,56,7,6,56,4]\n",
    "print(\"original tuple:\",original_tuple)\n",
    "tuple_reverse=original_tuple[::-1]\n",
    "print(\"reversed tuple:\",tuple_reverse)"
   ]
  },
  {
   "cell_type": "code",
   "execution_count": 21,
   "id": "8aa974f6-3377-466b-8808-60a3bf8826f9",
   "metadata": {},
   "outputs": [
    {
     "name": "stdin",
     "output_type": "stream",
     "text": [
      "enter the value of n: 10\n"
     ]
    },
    {
     "name": "stdout",
     "output_type": "stream",
     "text": [
      "tuple of first 'n' power of 2 is: (2, 4, 8, 16, 32, 64, 128, 256, 512, 1024)\n"
     ]
    }
   ],
   "source": [
    "#Create a tuple of the first `n` powers of 2.\n",
    "n=int(input(\"enter the value of n:\"))\n",
    "tup_pow=[]\n",
    "for i in range(1,n+1):\n",
    "    tup_pow.append(2**i)\n",
    "    i+=1\n",
    "print(\"tuple of first 'n' power of 2 is:\",tuple(tup_pow))\n",
    "    "
   ]
  },
  {
   "cell_type": "code",
   "execution_count": 14,
   "id": "9f370cc6-2c06-43ac-a3a6-d595a0677b0b",
   "metadata": {},
   "outputs": [
    {
     "name": "stdout",
     "output_type": "stream",
     "text": [
      "the longest string is: pomegranate\n"
     ]
    }
   ],
   "source": [
    "#Find the longest string in a tuple of strings.\n",
    "tup1=('apple','orange','pomegranate')\n",
    "if len(tup1[0])>len(tup1[1]) and len(tup1[0])>len(tup1[2]):\n",
    "    print(\"the longest string is:\",tup1[0])\n",
    "if len(tup1[1])>len(tup1[0]) and len(tup1[1])>len(tup1[2]):\n",
    "    print(\"the longest string is:\",tup1[1])\n",
    "if len(tup1[2])>len(tup1[0]) and len(tup1[2])>len(tup1[1]):\n",
    "    print(\"the longest string is:\",tup1[2])\n"
   ]
  },
  {
   "cell_type": "code",
   "execution_count": 15,
   "id": "372f4a6f-2d44-47e2-8173-455d811a0cfd",
   "metadata": {},
   "outputs": [
    {
     "name": "stdout",
     "output_type": "stream",
     "text": [
      "the shortest string is: apple\n"
     ]
    }
   ],
   "source": [
    "#Find the shortest string in a tuple of strings.\n",
    "tup1=('apple','orange','pomegranate')\n",
    "if len(tup1[0])<len(tup1[1]) and len(tup1[0])<len(tup1[2]):\n",
    "    print(\"the shortest string is:\",tup1[0])\n",
    "if len(tup1[1])<len(tup1[0]) and len(tup1[1])<len(tup1[2]):\n",
    "    print(\"the shortest string is:\",tup1[1])\n",
    "if len(tup1[2])<len(tup1[0]) and len(tup1[2])<len(tup1[1]):\n",
    "    print(\"the shortest string is:\",tup1[2])"
   ]
  },
  {
   "cell_type": "code",
   "execution_count": 1,
   "id": "62ef8e1e-3d2e-4893-a12b-f02e57154153",
   "metadata": {},
   "outputs": [
    {
     "name": "stdin",
     "output_type": "stream",
     "text": [
      "the value of n: 9\n"
     ]
    },
    {
     "name": "stdout",
     "output_type": "stream",
     "text": [
      "(1, 3, 6, 10, 15, 21, 28, 36, 45)\n"
     ]
    }
   ],
   "source": [
    "#Create a tuple of the first `n` triangular numbers.\n",
    "x=int(input(\"the value of n:\"))\n",
    "j = 1\n",
    "k = 1\n",
    "list6=[]\n",
    "for i in range(1, x + 1):\n",
    "    list6.append(k)\n",
    "    j = j + 1         \n",
    "    k = k + j\n",
    "print(tuple(list6))"
   ]
  },
  {
   "cell_type": "code",
   "execution_count": 9,
   "id": "a1125848-29e2-4c44-85b5-7730d6c41584",
   "metadata": {},
   "outputs": [
    {
     "data": {
      "text/plain": [
       "True"
      ]
     },
     "execution_count": 9,
     "metadata": {},
     "output_type": "execute_result"
    }
   ],
   "source": [
    "#Check if a tuple contains another tuple as a subsequence\n",
    "tup_orig=(2,3,5,4,6,7,9,8)\n",
    "tup_subseq=(2,3,5,9)\n",
    "all(item in tup_orig for item in tup_subseq)"
   ]
  },
  {
   "cell_type": "code",
   "execution_count": 12,
   "id": "e7039adf-6f6a-4583-b89c-fefa407f87d9",
   "metadata": {},
   "outputs": [
    {
     "name": "stdout",
     "output_type": "stream",
     "text": [
      "(1, 0, 1, 0, 1, 0, 1, 0, 1, 0)\n"
     ]
    }
   ],
   "source": [
    "# Create a tuple of alternating 1s and 0s of length `n`.\n",
    "result = []\n",
    "n = 10\n",
    "for i in range(n):\n",
    "    if i % 2 == 0:\n",
    "        result.append(1)\n",
    "    else:\n",
    "        result.append(0)\n",
    "print(tuple(result))\n",
    "    "
   ]
  },
  {
   "cell_type": "code",
   "execution_count": 1,
   "id": "9fb37e32-d048-4a1b-9c36-90760a1ae574",
   "metadata": {},
   "outputs": [
    {
     "name": "stdout",
     "output_type": "stream",
     "text": [
      "{1, 2, 3, 4, 5}\n"
     ]
    }
   ],
   "source": [
    "#Create a set with integers from 1 to 5.\n",
    "s={1,2,3,4,5}\n",
    "print(s)"
   ]
  },
  {
   "cell_type": "code",
   "execution_count": 2,
   "id": "ca9be4a7-e27c-4a74-958a-1cef3e26812b",
   "metadata": {},
   "outputs": [
    {
     "name": "stdout",
     "output_type": "stream",
     "text": [
      "{1, 2, 3, 4, 5, 25}\n"
     ]
    }
   ],
   "source": [
    "# Add an element to a set.\n",
    "s.add(25)\n",
    "print(s)"
   ]
  },
  {
   "cell_type": "code",
   "execution_count": 3,
   "id": "4d2c2f05-5c13-4bc5-a442-40b70f6e600d",
   "metadata": {},
   "outputs": [
    {
     "name": "stdout",
     "output_type": "stream",
     "text": [
      "{1, 3, 4, 5, 25}\n"
     ]
    }
   ],
   "source": [
    "# Remove an element from a set.\n",
    "s.remove(2)\n",
    "print(s)"
   ]
  },
  {
   "cell_type": "code",
   "execution_count": 4,
   "id": "971c3ded-d4bf-4d92-8d23-d1e469b5c536",
   "metadata": {},
   "outputs": [
    {
     "name": "stdout",
     "output_type": "stream",
     "text": [
      "yes the element exists.\n"
     ]
    }
   ],
   "source": [
    "# Check if an element exists in a set.\n",
    "s1={'apple','orange','kiwi','mango'}\n",
    "if 'apple' in s1:\n",
    "    print(\"yes the element exists.\")"
   ]
  },
  {
   "cell_type": "code",
   "execution_count": 12,
   "id": "8447c4a9-4530-4be1-91b5-035314ff0aa7",
   "metadata": {},
   "outputs": [
    {
     "name": "stdout",
     "output_type": "stream",
     "text": [
      "8\n"
     ]
    }
   ],
   "source": [
    "# Find the length of a set without using the `len()` function.\n",
    "s={2,1,3,4,5,6,4,7,8}\n",
    "length=0\n",
    "for i in s:\n",
    "    length+=1\n",
    "print(length)\n",
    "    "
   ]
  },
  {
   "cell_type": "code",
   "execution_count": 14,
   "id": "57ee9b0d-943f-4b21-8f31-f4053647aaf4",
   "metadata": {},
   "outputs": [
    {
     "name": "stdout",
     "output_type": "stream",
     "text": [
      "set()\n"
     ]
    }
   ],
   "source": [
    "#Clear all elements from a set.\n",
    "s.clear()\n",
    "print(s)"
   ]
  },
  {
   "cell_type": "code",
   "execution_count": 2,
   "id": "368f1dfb-d572-4834-abc9-6bed9fe6ab39",
   "metadata": {},
   "outputs": [
    {
     "name": "stdout",
     "output_type": "stream",
     "text": [
      "{2, 4, 6, 8, 10}\n"
     ]
    }
   ],
   "source": [
    "#Create a set of even numbers from 1 to 10.\n",
    "evens = {x for x in range(2, 11, 2)}\n",
    "print(evens)\n"
   ]
  },
  {
   "cell_type": "code",
   "execution_count": 3,
   "id": "04999963-6e80-4d04-81f5-e99005b191c3",
   "metadata": {},
   "outputs": [
    {
     "name": "stdout",
     "output_type": "stream",
     "text": [
      "{1, 3, 5, 7, 9}\n"
     ]
    }
   ],
   "source": [
    "#Create a set of odd numbers from 1 to 10.\n",
    "odds={y for y in range(1,11,2)}\n",
    "print(odds)"
   ]
  },
  {
   "cell_type": "code",
   "execution_count": 9,
   "id": "ed0c6684-210a-491f-986f-1ce9235a9c2d",
   "metadata": {},
   "outputs": [
    {
     "name": "stdout",
     "output_type": "stream",
     "text": [
      "{1, 2, 3, 4, 98, 6, 34, 8, 67, 10, 11, 43, 45, 78, 23, 90}\n",
      "{45, 78}\n",
      "{2, 3, 4, 98, 6, 8, 10, 11}\n",
      "False\n",
      "False\n"
     ]
    }
   ],
   "source": [
    "s_1={2,4,6,8,3,10,11,98,78,45}\n",
    "s_2={45,34,67,78,1,23,90,43}\n",
    "#union\n",
    "print(s_1.union(s_2))\n",
    "#intersection\n",
    "print(s_1.intersection(s_2))\n",
    "#difference\n",
    "print(s_1.difference(s_2))\n",
    "# subset\n",
    "print(s_2.issubset(s_1))\n",
    "#superset\n",
    "print(s_2.issuperset(s_1))\n"
   ]
  },
  {
   "cell_type": "code",
   "execution_count": 10,
   "id": "829752be-5fa2-4b2d-91fb-75a86d25b839",
   "metadata": {},
   "outputs": [
    {
     "name": "stdout",
     "output_type": "stream",
     "text": [
      "{1, 67, 4, 5, 78, 23}\n"
     ]
    }
   ],
   "source": [
    "#list to set\n",
    "list=[1,4,23,5,67,4,78,4]\n",
    "print(set(list))"
   ]
  },
  {
   "cell_type": "code",
   "execution_count": 18,
   "id": "48e14b9b-2b3a-4133-b146-43b2ef326bb0",
   "metadata": {},
   "outputs": [
    {
     "name": "stdout",
     "output_type": "stream",
     "text": [
      "[40, 10, 20, 30]\n"
     ]
    }
   ],
   "source": [
    "#set to list\n",
    "sample_set = {10, 20, 30, 40}\n",
    "my_list=[]\n",
    "for i in sample_set:\n",
    "    my_list.append(i)\n",
    "print(my_list)"
   ]
  },
  {
   "cell_type": "code",
   "execution_count": 23,
   "id": "85c44616-226f-4ddc-8744-ddb99849ae1b",
   "metadata": {},
   "outputs": [
    {
     "name": "stdout",
     "output_type": "stream",
     "text": [
      "2\n"
     ]
    }
   ],
   "source": [
    "#Remove a random element from a set\n",
    "s_1={2,4,6,8,3,10,11,98,78,45}\n",
    "print(s_1.pop())"
   ]
  },
  {
   "cell_type": "code",
   "execution_count": 24,
   "id": "e4cb3cac-bcfe-48ce-b17c-c752bc2dbefe",
   "metadata": {},
   "outputs": [
    {
     "name": "stdout",
     "output_type": "stream",
     "text": [
      "3\n"
     ]
    }
   ],
   "source": [
    "#Pop an element from a set.\n",
    "print(s_1.pop())"
   ]
  },
  {
   "cell_type": "code",
   "execution_count": 26,
   "id": "b5ae03cc-cc52-42f8-9c6d-62d4548a9bba",
   "metadata": {},
   "outputs": [
    {
     "name": "stdout",
     "output_type": "stream",
     "text": [
      "True\n"
     ]
    }
   ],
   "source": [
    "#Check if two sets have no elements in common\n",
    "set1={2,3,4,5}\n",
    "set2={'apple','mango','orange'}\n",
    "print(set1.isdisjoint(set2))"
   ]
  },
  {
   "cell_type": "code",
   "execution_count": 27,
   "id": "52945b57-6a5e-484c-8ebe-36b69bc6b25b",
   "metadata": {},
   "outputs": [
    {
     "name": "stdout",
     "output_type": "stream",
     "text": [
      "{1, 34, 67, 4, 98, 6, 8, 10, 43, 11, 23, 90}\n"
     ]
    }
   ],
   "source": [
    "#Find the symmetric difference between two sets\n",
    "print(s_1.symmetric_difference(s_2))"
   ]
  },
  {
   "cell_type": "code",
   "execution_count": 33,
   "id": "ccfebad8-342f-4990-9f8c-f5947e9807c2",
   "metadata": {},
   "outputs": [
    {
     "name": "stdout",
     "output_type": "stream",
     "text": [
      "{1, 2, 3, 4, 5, 6, 7, 8, 9, 10}\n"
     ]
    }
   ],
   "source": [
    "# Update a set with elements from another set.\n",
    "s_11={1,3,5,7,9}\n",
    "s_22={2,4,6,8,10}\n",
    "s_11.update(s_22)\n",
    "print(s_11)"
   ]
  },
  {
   "cell_type": "code",
   "execution_count": 35,
   "id": "2cac6140-5aeb-4aa7-810b-2c3b6360b43a",
   "metadata": {},
   "outputs": [
    {
     "name": "stdout",
     "output_type": "stream",
     "text": [
      "{2, 3, 5, 7, 11}\n"
     ]
    }
   ],
   "source": [
    "# Create a set of the first 5 prime numbers.\n",
    "print({i for i in range(2, 13) if 0 not in [i%n for n in range(2, i)]})"
   ]
  },
  {
   "cell_type": "code",
   "execution_count": 37,
   "id": "f3e7f254-7d7d-4c22-ab1b-01247667e4fd",
   "metadata": {},
   "outputs": [
    {
     "name": "stdout",
     "output_type": "stream",
     "text": [
      "sets are identical\n"
     ]
    }
   ],
   "source": [
    "# Check if two sets are identical.\n",
    "s_11={1,2,3,4}\n",
    "s_22={1,2,3,4}\n",
    "if s_11==s_22:\n",
    "    print(\"sets are identical\")\n",
    "else:\n",
    "    print(\"sets are unidentical\")"
   ]
  },
  {
   "cell_type": "code",
   "execution_count": 39,
   "id": "c13971b0-c925-461c-92f6-5175cbd3d5cc",
   "metadata": {},
   "outputs": [
    {
     "name": "stdout",
     "output_type": "stream",
     "text": [
      "True\n",
      "True\n",
      "False\n"
     ]
    }
   ],
   "source": [
    "# Create a frozen set.\n",
    "animals = frozenset({\"cat\", \"dog\", \"lion\",\"elephant\",\"bear\"})\n",
    "print(\"cat\" in animals) \n",
    "print(\"elephant\" in animals)\n",
    "print(\"panda\" in animals)"
   ]
  },
  {
   "cell_type": "code",
   "execution_count": 41,
   "id": "976cc5be-e401-41e7-ac2a-326f414c8583",
   "metadata": {},
   "outputs": [
    {
     "name": "stdout",
     "output_type": "stream",
     "text": [
      "False\n"
     ]
    }
   ],
   "source": [
    "# Check if a set is disjoint with another set.\n",
    "print(s_11.isdisjoint(s_22))"
   ]
  },
  {
   "cell_type": "code",
   "execution_count": 44,
   "id": "e2f2af97-e94d-4962-b75b-d028ed413921",
   "metadata": {},
   "outputs": [
    {
     "name": "stdout",
     "output_type": "stream",
     "text": [
      "{1, 4, 9, 16, 25}\n"
     ]
    }
   ],
   "source": [
    "#Create a set of squares of numbers from 1 to 5.\n",
    "print({i**2 for i in range(1,6)})"
   ]
  },
  {
   "cell_type": "code",
   "execution_count": 2,
   "id": "161c86ec-1a6b-4c88-8e02-471ca3daa024",
   "metadata": {},
   "outputs": [
    {
     "name": "stdout",
     "output_type": "stream",
     "text": [
      "{2, 4, 6, 8, 10, 12, 14, 16, 18, 20, 22, 24, 26, 28, 30, 32, 34, 36, 38, 40, 42, 44, 46, 48}\n"
     ]
    }
   ],
   "source": [
    "#Filter out all even numbers from a set.\n",
    "even_set=[]\n",
    "test_set=range(1,50)\n",
    "for i in test_set:\n",
    "    if i%2==0:\n",
    "       even_set.append(i)\n",
    "print(set(even_set))"
   ]
  },
  {
   "cell_type": "code",
   "execution_count": 3,
   "id": "5d4a459d-6fa0-4353-87a2-47214b60aa5c",
   "metadata": {},
   "outputs": [
    {
     "name": "stdout",
     "output_type": "stream",
     "text": [
      "{4, 8, 12, 16, 20, 24, 28, 32, 36, 40, 44, 48, 52, 56, 60, 64, 68, 72, 76, 80, 84, 88, 92, 96}\n"
     ]
    }
   ],
   "source": [
    "#Multiply all elements in a set by 2.\n",
    "print({i*2 for i in even_set})"
   ]
  },
  {
   "cell_type": "code",
   "execution_count": 4,
   "id": "85e70d94-65c3-4024-aa07-5e952ebf1cbd",
   "metadata": {},
   "outputs": [
    {
     "name": "stdout",
     "output_type": "stream",
     "text": [
      "{1, 2, 5, 6, 9, 15, 17, 20}\n"
     ]
    }
   ],
   "source": [
    "#Create a set of random numbers.\n",
    "import random\n",
    "rand_tup = [random.randint(0, 20) for _ in range(10)]\n",
    "print(set(rand_tup))"
   ]
  },
  {
   "cell_type": "code",
   "execution_count": 11,
   "id": "432b63ce-ed32-45fa-90ed-1ddf36c503f7",
   "metadata": {},
   "outputs": [
    {
     "name": "stdout",
     "output_type": "stream",
     "text": [
      "empty set\n"
     ]
    }
   ],
   "source": [
    "#Check if a set is empty.\n",
    "s=()\n",
    "if len(s)==0:\n",
    "    print(\"empty set\")\n",
    "else:\n",
    "    print(\"set not empty\")"
   ]
  },
  {
   "cell_type": "code",
   "execution_count": 12,
   "id": "1cfaef97-de00-4f42-ad98-7c2675e5c4a2",
   "metadata": {},
   "outputs": [
    {
     "name": "stdout",
     "output_type": "stream",
     "text": [
      "{frozenset({3, 4}), frozenset({1, 2})}\n"
     ]
    }
   ],
   "source": [
    "#Create a nested set\n",
    "s = set([frozenset([1,2]), frozenset([3,4])])\n",
    "print(s)"
   ]
  },
  {
   "cell_type": "code",
   "execution_count": 14,
   "id": "17b7a5e3-e956-4501-b109-bcf47392ba48",
   "metadata": {},
   "outputs": [
    {
     "name": "stdout",
     "output_type": "stream",
     "text": [
      "{1, 5, 7, 9}\n"
     ]
    }
   ],
   "source": [
    "# Remove an element from a set using the discard method.\n",
    "s_11={1,3,5,7,9}\n",
    "s_11.discard(3)\n",
    "print(s_11)"
   ]
  },
  {
   "cell_type": "code",
   "execution_count": 15,
   "id": "290e0ca0-8977-4a8e-949e-c6fd6b132526",
   "metadata": {},
   "outputs": [
    {
     "name": "stdout",
     "output_type": "stream",
     "text": [
      "False\n",
      "False\n",
      "False\n",
      "False\n",
      "False\n"
     ]
    }
   ],
   "source": [
    "# Compare two sets.\n",
    "s1={1,2,3,4}\n",
    "s2={3,4,5,6}\n",
    "print(s1==s2)\n",
    "print(s1<s2)\n",
    "print(s1>s2)\n",
    "print(s1<=s2)\n",
    "print(s1>=s2)"
   ]
  },
  {
   "cell_type": "code",
   "execution_count": 18,
   "id": "4e08d05d-dc07-46fd-9630-90fa5d29f566",
   "metadata": {},
   "outputs": [
    {
     "name": "stdout",
     "output_type": "stream",
     "text": [
      "{'e', 'd', 'o', 'w', 'r', '!', 'l', ' ', 'h'}\n"
     ]
    }
   ],
   "source": [
    "#Create a set from a string.\n",
    "string=\"hello world!\"\n",
    "set_string=set(string)\n",
    "print(set_string)"
   ]
  },
  {
   "cell_type": "code",
   "execution_count": 3,
   "id": "455d451a-0e15-4439-8382-0fa527cac483",
   "metadata": {},
   "outputs": [
    {
     "name": "stdout",
     "output_type": "stream",
     "text": [
      "Modified list is :  {1, 3, 4, 6, 7}\n"
     ]
    }
   ],
   "source": [
    "# Convert a set of strings to a set of integers.\n",
    "test_list = ['1', '4', '3', '6', '7']\n",
    "for i in range(0, len(test_list)):\n",
    "    test_list[i] = int(test_list[i])\n",
    "print(\"Modified list is : \",set((test_list)))"
   ]
  },
  {
   "cell_type": "code",
   "execution_count": 4,
   "id": "8bbefef3-3914-4747-bf5d-36f3dccc449e",
   "metadata": {},
   "outputs": [
    {
     "name": "stdout",
     "output_type": "stream",
     "text": [
      "{1, 3, 5, 7, 9}\n"
     ]
    }
   ],
   "source": [
    "# Create a set from a tuple.\n",
    "tuple_1=(1,3,5,7,9)\n",
    "print(set(tuple_1))"
   ]
  },
  {
   "cell_type": "code",
   "execution_count": 6,
   "id": "d1892352-e2d6-4add-a91e-be12e4ad116a",
   "metadata": {},
   "outputs": [
    {
     "name": "stdout",
     "output_type": "stream",
     "text": [
      "(8, 2, 4, 6)\n"
     ]
    }
   ],
   "source": [
    "# Convert a set to a tuple.\n",
    "set_1={2,4,6,8}\n",
    "print(tuple(set_1))"
   ]
  },
  {
   "cell_type": "code",
   "execution_count": 8,
   "id": "b5bae5cb-d53f-47dc-b1d3-c5baa9a68c59",
   "metadata": {},
   "outputs": [
    {
     "name": "stdout",
     "output_type": "stream",
     "text": [
      "8\n",
      "2\n"
     ]
    }
   ],
   "source": [
    "#maximum value in a set:\n",
    "print(max(set_1))\n",
    "#minimum value in a set:\n",
    "print(min(set_1))"
   ]
  },
  {
   "cell_type": "code",
   "execution_count": 12,
   "id": "021e1a07-6244-4b0a-8942-72fe9149a233",
   "metadata": {},
   "outputs": [
    {
     "name": "stdin",
     "output_type": "stream",
     "text": [
      "enter the value of limit n: 15\n"
     ]
    },
    {
     "name": "stdout",
     "output_type": "stream",
     "text": [
      "{1, 3, 5, 7, 9, 11, 13, 15}\n"
     ]
    }
   ],
   "source": [
    "# Create a set from user input.\n",
    "list_1=[]\n",
    "x=int(input(\"enter the value of limit n:\"))\n",
    "for i in range(1,x+1,2):\n",
    "    list_1.append(i)\n",
    "print(set(list_1))"
   ]
  },
  {
   "cell_type": "code",
   "execution_count": 19,
   "id": "6978a179-7712-4892-934d-921545f4767c",
   "metadata": {},
   "outputs": [
    {
     "name": "stdout",
     "output_type": "stream",
     "text": [
      "intersection is empty\n"
     ]
    }
   ],
   "source": [
    "# Check if the intersection of two sets is empty.\n",
    "s1={1,2,3,4}\n",
    "s2={8,9,5,6}\n",
    "if (s1.isdisjoint(s2)):\n",
    "    print(\"intersection is empty\")\n",
    "else:\n",
    "    print(\"intersection not empty\")"
   ]
  },
  {
   "cell_type": "code",
   "execution_count": 24,
   "id": "7807fd9b-5550-4918-a1ff-c1ef1c1045fb",
   "metadata": {},
   "outputs": [
    {
     "name": "stdin",
     "output_type": "stream",
     "text": [
      "Enter the number of terms:  6\n"
     ]
    },
    {
     "name": "stdout",
     "output_type": "stream",
     "text": [
      "{0, 1, 2, 3, 5}\n"
     ]
    }
   ],
   "source": [
    "# Create a set of the first 5 Fibonacci numbers.\n",
    "n1,n2=0,1\n",
    "n=int(input(\"Enter the number of terms: \"))\n",
    "i=2\n",
    "fib=[n1,n2]\n",
    "while i<n:\n",
    "  n3=n1+n2\n",
    "  fib.append(n3)\n",
    "  n1=n2\n",
    "  n2=n3\n",
    "  i+=1\n",
    "print(set(fib))\n"
   ]
  },
  {
   "cell_type": "code",
   "execution_count": 25,
   "id": "796217c1-51ff-47f2-bde7-480a9e27d2dd",
   "metadata": {},
   "outputs": [
    {
     "name": "stdout",
     "output_type": "stream",
     "text": [
      "original list is: [2, 1, 3, 4, 2, 5, 4, 6, 7, 4, 7, 8, 9, 7, 8]\n",
      "the list after removing all duplicates is: {1, 2, 3, 4, 5, 6, 7, 8, 9}\n"
     ]
    }
   ],
   "source": [
    "#Remove duplicates from a list using sets.\n",
    "test_list=[2,1,3,4,2,5,4,6,7,4,7,8,9,7,8]\n",
    "print(\"original list is:\",test_list)\n",
    "print(\"the list after removing all duplicates is:\",set(test_list))"
   ]
  },
  {
   "cell_type": "code",
   "execution_count": 26,
   "id": "689c61b1-8dd6-4b17-8a4a-3d7012cf209b",
   "metadata": {},
   "outputs": [
    {
     "name": "stdout",
     "output_type": "stream",
     "text": [
      "set have the same element\n"
     ]
    }
   ],
   "source": [
    "# Check if two sets have the same elements, regardless of their count.\n",
    "set1={2,3,4,5,6,7,8,9,10,11,12,2,3,4,5,10,10,2,3}\n",
    "set2={2,3,4,5,6,7,8,9,10,11,12,2,3,4,5,10,10,2,3,2,2,3,4}\n",
    "if (set1==set2):\n",
    "    print(\"set have the same element\")\n",
    "else:\n",
    "    print(\"elements are not same\")"
   ]
  },
  {
   "cell_type": "code",
   "execution_count": 30,
   "id": "66c8afb2-3237-4dbc-b34b-c2785f0afbdd",
   "metadata": {},
   "outputs": [
    {
     "name": "stdin",
     "output_type": "stream",
     "text": [
      "enter the value of n: 5\n"
     ]
    },
    {
     "name": "stdout",
     "output_type": "stream",
     "text": [
      "{32, 2, 4, 8, 16}\n"
     ]
    }
   ],
   "source": [
    "# Create a set of the first `n` powers of 2.\n",
    "n=int(input(\"enter the value of n:\"))\n",
    "print({2**i for i in range(1,n+1)})"
   ]
  },
  {
   "cell_type": "code",
   "execution_count": 31,
   "id": "7ece21b7-522f-4f11-bc89-2a2d6bd73fd1",
   "metadata": {},
   "outputs": [
    {
     "name": "stdout",
     "output_type": "stream",
     "text": [
      "{2, 3, 4}\n"
     ]
    }
   ],
   "source": [
    "#Find the common elements between a set and a list\n",
    "set1={2,3,4,5,6}\n",
    "list1=[1,2,3,4]\n",
    "com=[]\n",
    "for i in set1:\n",
    "    for j in list1:\n",
    "        if i==j:\n",
    "            com.append(i)\n",
    "print(set(com))\n",
    "            "
   ]
  },
  {
   "cell_type": "code",
   "execution_count": 32,
   "id": "49b24392-d9c8-45e0-83d2-2058e8c20f5a",
   "metadata": {},
   "outputs": [
    {
     "name": "stdin",
     "output_type": "stream",
     "text": [
      "the value of n: 10\n"
     ]
    },
    {
     "name": "stdout",
     "output_type": "stream",
     "text": [
      "{1, 3, 36, 6, 10, 45, 15, 21, 55, 28}\n"
     ]
    }
   ],
   "source": [
    "# Create a set of the first `n` triangular numbers.\n",
    "x=int(input(\"the value of n:\"))\n",
    "j = 1\n",
    "k = 1\n",
    "lis=[]\n",
    "for i in range(1, x + 1):\n",
    "    lis.append(k)\n",
    "    j = j + 1         \n",
    "    k = k + j\n",
    "print(set(lis))"
   ]
  },
  {
   "cell_type": "code",
   "execution_count": 33,
   "id": "da5d3953-3a69-4361-b540-b748e1e4dec5",
   "metadata": {},
   "outputs": [
    {
     "data": {
      "text/plain": [
       "True"
      ]
     },
     "execution_count": 33,
     "metadata": {},
     "output_type": "execute_result"
    }
   ],
   "source": [
    "#Check if a set contains another set as a subset.\n",
    "set1={2,3,4,5,6,7,8,9,10,11,12,2,3,4,5,10,10,2,3}\n",
    "set2={2,3,4,5,6,7,8,9,10,11,12,2,3,4,5,10,10,2,3,2,2,3,4}\n",
    "set1.issubset(set2)"
   ]
  },
  {
   "cell_type": "code",
   "execution_count": 44,
   "id": "591cbdc6-37e2-4083-9990-46d84209d6d9",
   "metadata": {},
   "outputs": [
    {
     "name": "stdout",
     "output_type": "stream",
     "text": [
      "{'nine', 'six', 'four', 'two', 'one', 'five', 'three'}\n"
     ]
    }
   ],
   "source": [
    "#Merge multiple sets into one.\n",
    "set1 = {\"one\",\"two\",\"three\"}\n",
    "set2 = {\"four\",\"five\",\"six\"}\n",
    "set3 = {\"one\",\"four\",\"nine\"}\n",
    "set1.update(set2,set3)\n",
    "print(set1)"
   ]
  },
  {
   "cell_type": "code",
   "execution_count": null,
   "id": "5455708a-1ece-430c-b16b-b2365f47ab04",
   "metadata": {},
   "outputs": [],
   "source": []
  }
 ],
 "metadata": {
  "kernelspec": {
   "display_name": "Python 3 (ipykernel)",
   "language": "python",
   "name": "python3"
  },
  "language_info": {
   "codemirror_mode": {
    "name": "ipython",
    "version": 3
   },
   "file_extension": ".py",
   "mimetype": "text/x-python",
   "name": "python",
   "nbconvert_exporter": "python",
   "pygments_lexer": "ipython3",
   "version": "3.10.8"
  }
 },
 "nbformat": 4,
 "nbformat_minor": 5
}
