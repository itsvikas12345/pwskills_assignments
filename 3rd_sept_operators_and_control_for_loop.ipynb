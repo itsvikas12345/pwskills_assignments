{
 "cells": [
  {
   "cell_type": "code",
   "execution_count": 1,
   "id": "43e778f4-59f8-43b4-8def-293ae419e991",
   "metadata": {},
   "outputs": [],
   "source": [
    "# Basic level"
   ]
  },
  {
   "cell_type": "code",
   "execution_count": 2,
   "id": "6477794c-4e0e-481c-a7f8-ee62fb0bf828",
   "metadata": {},
   "outputs": [
    {
     "name": "stdout",
     "output_type": "stream",
     "text": [
      "[1, 2, 3, 4, 5, 6, 7, 8, 9, 10]\n"
     ]
    }
   ],
   "source": [
    "# Write a Python program to print the numbers from 1 to 10 using a `for` loop.\n",
    "x=[]\n",
    "for i in range(1,11):\n",
    "    x.append(i)\n",
    "print(x)"
   ]
  },
  {
   "cell_type": "code",
   "execution_count": 3,
   "id": "b3922e51-88b2-4b2e-815a-099da6d40f7d",
   "metadata": {},
   "outputs": [
    {
     "name": "stdout",
     "output_type": "stream",
     "text": [
      "55\n"
     ]
    }
   ],
   "source": [
    "#Create a program that calculates the sum of all numbers in a list using a `for` loop.\n",
    "sum=0\n",
    "for i in range(1,11):\n",
    "    sum+=i\n",
    "print(sum)"
   ]
  },
  {
   "cell_type": "code",
   "execution_count": 13,
   "id": "146b3722-ba07-4b12-9006-d98b915ce21d",
   "metadata": {},
   "outputs": [
    {
     "name": "stdin",
     "output_type": "stream",
     "text": [
      "enter a string: this is a nice place\n"
     ]
    },
    {
     "name": "stdout",
     "output_type": "stream",
     "text": [
      "the reversed sting is: ecalp ecin a si siht\n"
     ]
    }
   ],
   "source": [
    "#Write a program to print the characters of a string in reverse order using a `for` loop.\n",
    "x=str(input(\"enter a string:\"))\n",
    "str1=''\n",
    "for i in x:\n",
    "    str1=i+str1\n",
    "print(\"the reversed sting is:\", (str1))"
   ]
  },
  {
   "cell_type": "code",
   "execution_count": 27,
   "id": "e54ba375-109b-4f35-9081-8f92936037d5",
   "metadata": {},
   "outputs": [
    {
     "name": "stdin",
     "output_type": "stream",
     "text": [
      "enter the value of n: 6\n"
     ]
    },
    {
     "name": "stdout",
     "output_type": "stream",
     "text": [
      "the factorial of 6 is: 720\n"
     ]
    }
   ],
   "source": [
    "# Develop a program that finds the factorial of a given number using a `for` loop.\n",
    "fact=1\n",
    "n=int(input(\"enter the value of n:\"))\n",
    "for i in range(1,n+1):\n",
    "    fact*=i\n",
    "print(\"the factorial of\",n,\"is:\",fact)       "
   ]
  },
  {
   "cell_type": "code",
   "execution_count": 28,
   "id": "26cd3e61-8a3f-4ca9-a97b-db4379a53f30",
   "metadata": {},
   "outputs": [
    {
     "name": "stdin",
     "output_type": "stream",
     "text": [
      "enter the number whose table is to be found: 5\n"
     ]
    },
    {
     "name": "stdout",
     "output_type": "stream",
     "text": [
      "[5, 10, 15, 20, 25, 30, 35, 40, 45, 50]\n"
     ]
    }
   ],
   "source": [
    "# Create a program to print the multiplication table of a given number using a `for` loop.\n",
    "n=int(input(\"enter the number whose table is to be found:\"))\n",
    "table=[]\n",
    "for i in range(1,11):\n",
    "    table.append(n*i)\n",
    "print(table)\n",
    "    "
   ]
  },
  {
   "cell_type": "code",
   "execution_count": 32,
   "id": "a0c36994-34f9-4e53-8c1a-066a40366eb4",
   "metadata": {},
   "outputs": [
    {
     "name": "stdout",
     "output_type": "stream",
     "text": [
      "the total number of even numbers is: 7 and the total number of odd numbers is: 8\n"
     ]
    }
   ],
   "source": [
    "#Write a program that counts the number of even and odd numbers in a list using a `for` loop.\n",
    "x=15\n",
    "count_even=0\n",
    "count_odd=0\n",
    "for i in range(1,x+1):\n",
    "    if i%2==0:\n",
    "        count_even+=1\n",
    "    else:\n",
    "        count_odd+=1\n",
    "print(\"the total number of even numbers is:\",count_even,\"and the total number of odd numbers is:\",count_odd)"
   ]
  },
  {
   "cell_type": "code",
   "execution_count": 33,
   "id": "38e1578d-869a-4a7e-af6f-a639ec3a891f",
   "metadata": {},
   "outputs": [
    {
     "name": "stdout",
     "output_type": "stream",
     "text": [
      "[1, 4, 9, 16, 25]\n"
     ]
    }
   ],
   "source": [
    "#Develop a program that prints the squares of numbers from 1 to 5 using a `for` loop.\n",
    "squares=[]\n",
    "for i in range(1,6):\n",
    "    squares.append(i**2)\n",
    "print(squares)"
   ]
  },
  {
   "cell_type": "code",
   "execution_count": 34,
   "id": "dd477c95-4198-4eb0-a8f7-6860b7291cf1",
   "metadata": {},
   "outputs": [
    {
     "name": "stdout",
     "output_type": "stream",
     "text": [
      "18\n"
     ]
    }
   ],
   "source": [
    "#Create a program to find the length of a string without using the `len()` function.\n",
    "string=\"I live in lucknow.\"\n",
    "count=0\n",
    "for i in string:\n",
    "    count+=1\n",
    "print(count)"
   ]
  },
  {
   "cell_type": "code",
   "execution_count": 36,
   "id": "15144f52-d955-4e16-bf8e-51690b0b97fb",
   "metadata": {},
   "outputs": [
    {
     "name": "stdout",
     "output_type": "stream",
     "text": [
      "average of numbers is: 6.5\n"
     ]
    }
   ],
   "source": [
    "#Write a program that calculates the average of a list of numbers using a `for` loop.\n",
    "list_num=[1,2,3,4,5,6,7,8,9,10,11,12]\n",
    "sum=0\n",
    "avg=0\n",
    "for i in list_num:\n",
    "    sum+=i\n",
    "avg=sum/len(list_num)\n",
    "print(\"average of numbers is:\", avg)\n",
    "\n",
    "    "
   ]
  },
  {
   "cell_type": "code",
   "execution_count": 41,
   "id": "458fdfdc-8a5d-4d66-b1c9-984166028daa",
   "metadata": {},
   "outputs": [
    {
     "name": "stdin",
     "output_type": "stream",
     "text": [
      "enter the value of n: 5\n"
     ]
    },
    {
     "name": "stdout",
     "output_type": "stream",
     "text": [
      "fibonacci numbers till 5 are: [0, 1, 1, 2, 3, 5]\n"
     ]
    }
   ],
   "source": [
    "# Develop a program that prints the first `n` Fibonacci numbers using a `for` loop.\n",
    "n=int(input(\"enter the value of n:\"))\n",
    "n1,n2=0,1\n",
    "n3=0\n",
    "\n",
    "fib=[n1,n2]\n",
    "for i in range(2,n+1):\n",
    "    n3=n1+n2\n",
    "    fib.append(n3)\n",
    "    n1=n2\n",
    "    n2=n3\n",
    "    i+=1\n",
    "print(\"fibonacci numbers till\",n,\"are:\",fib)\n"
   ]
  },
  {
   "cell_type": "code",
   "execution_count": 42,
   "id": "d92ce859-9566-40e3-bebe-3dcb55b720dd",
   "metadata": {},
   "outputs": [],
   "source": [
    "#ADVANCED LEVEL"
   ]
  },
  {
   "cell_type": "code",
   "execution_count": 6,
   "id": "7ed53807-f8ec-40f0-b857-058ea937e476",
   "metadata": {},
   "outputs": [],
   "source": [
    "# Write a program to check if a given list contains any duplicates using a `for` loop.\n",
    "def contains_duplicates(list1):\n",
    "    for i in range(len(list1)):\n",
    "        for j in range(0, i):\n",
    "            if list1[i] == list1[j]:\n",
    "                return True\n",
    "    return False   "
   ]
  },
  {
   "cell_type": "code",
   "execution_count": 3,
   "id": "7d3d1283-5561-4406-af6d-185cf53b3cee",
   "metadata": {},
   "outputs": [
    {
     "data": {
      "text/plain": [
       "True"
      ]
     },
     "execution_count": 3,
     "metadata": {},
     "output_type": "execute_result"
    }
   ],
   "source": [
    "list1=[2,3,4,2,1,4,5,6]\n",
    "contains_duplicates(list1)"
   ]
  },
  {
   "cell_type": "code",
   "execution_count": 2,
   "id": "8e82aed2-ec30-4d40-80cf-be1f478d1432",
   "metadata": {},
   "outputs": [
    {
     "name": "stdin",
     "output_type": "stream",
     "text": [
      "Enter Lower Range:  2\n",
      "Enter Upper Range:  50\n"
     ]
    },
    {
     "name": "stdout",
     "output_type": "stream",
     "text": [
      "Prime numbers between 2 and 50 are:\n",
      "2 3 5 7 11 13 17 19 23 29 31 37 41 43 47 "
     ]
    }
   ],
   "source": [
    "#Create a program that prints the prime numbers in a given range using a `for` loop.\n",
    "l_range = int(input(\"Enter Lower Range: \"))\n",
    "u_range = int(input(\"Enter Upper Range: \"))\n",
    "print(\"Prime numbers between\", l_range, \"and\", u_range, \"are:\")\n",
    "for num in range(l_range, u_range + 1):\n",
    "    for i in range(2, num):\n",
    "        if (num % i) == 0:\n",
    "            break\n",
    "    else:\n",
    "        print(num, end=' ')"
   ]
  },
  {
   "cell_type": "code",
   "execution_count": 3,
   "id": "a5d3e3aa-c859-470b-b18d-6c275982b0e1",
   "metadata": {},
   "outputs": [
    {
     "name": "stdout",
     "output_type": "stream",
     "text": [
      "5\n"
     ]
    }
   ],
   "source": [
    "#Develop a program that counts the number of vowels in a string using a `for` loop.\n",
    "vow=['a','e','i','o','u']\n",
    "count=0\n",
    "str=\"i love lucknow.\"\n",
    "for i in str:\n",
    "    if i in vow:\n",
    "        count+=1\n",
    "print(count)\n",
    "        "
   ]
  },
  {
   "cell_type": "code",
   "execution_count": 6,
   "id": "7b171134-abe4-4323-8dc7-ff2ab2ad1fe1",
   "metadata": {},
   "outputs": [
    {
     "name": "stdout",
     "output_type": "stream",
     "text": [
      "the maximum element is: 75\n"
     ]
    }
   ],
   "source": [
    "#Write a program to find the maximum element in a 2D list using a nested `for` loop.\n",
    "list_2d=[[10,29,33],[48,12,75],[45,34,65]]\n",
    "max_element=list_2d[0][0]\n",
    "for row in list_2d:\n",
    "    for col in row:\n",
    "        if col>max_element:\n",
    "            max_element=col\n",
    "print(\"the maximum element is:\",max_element)    "
   ]
  },
  {
   "cell_type": "code",
   "execution_count": 11,
   "id": "a637b3d3-5f22-4618-8056-13098d1d9907",
   "metadata": {},
   "outputs": [
    {
     "name": "stdin",
     "output_type": "stream",
     "text": [
      "enter the number to be removed: 2\n"
     ]
    },
    {
     "name": "stdout",
     "output_type": "stream",
     "text": [
      "[3, 4, 5, 4, 6, 4, 3, 6, 7, 3, 6]\n"
     ]
    }
   ],
   "source": [
    "#Create a program that removes all occurrences of a specific element from a list using a `for` loop.\n",
    "list=[2,3,4,5,2,4,6,4,2,2,3,6,7,3,6]\n",
    "x=int(input(\"enter the number to be removed:\"))\n",
    "for i in list:\n",
    "    if x==list[i]:\n",
    "        list.remove(list[i])\n",
    "print(list)\n",
    "    "
   ]
  },
  {
   "cell_type": "code",
   "execution_count": 8,
   "id": "22c64d97-d0f5-4ef8-b79a-4742c99778c0",
   "metadata": {},
   "outputs": [
    {
     "name": "stdout",
     "output_type": "stream",
     "text": [
      "1 X 1 = 1 \n",
      "\n",
      "1 X 2 = 2 \n",
      "\n",
      "1 X 3 = 3 \n",
      "\n",
      "1 X 4 = 4 \n",
      "\n",
      "1 X 5 = 5 \n",
      "\n",
      "1 X 6 = 6 \n",
      "\n",
      "1 X 7 = 7 \n",
      "\n",
      "1 X 8 = 8 \n",
      "\n",
      "1 X 9 = 9 \n",
      "\n",
      "1 X 10 = 10 \n",
      "\n",
      "\n",
      "2 X 1 = 2 \n",
      "\n",
      "2 X 2 = 4 \n",
      "\n",
      "2 X 3 = 6 \n",
      "\n",
      "2 X 4 = 8 \n",
      "\n",
      "2 X 5 = 10 \n",
      "\n",
      "2 X 6 = 12 \n",
      "\n",
      "2 X 7 = 14 \n",
      "\n",
      "2 X 8 = 16 \n",
      "\n",
      "2 X 9 = 18 \n",
      "\n",
      "2 X 10 = 20 \n",
      "\n",
      "\n",
      "3 X 1 = 3 \n",
      "\n",
      "3 X 2 = 6 \n",
      "\n",
      "3 X 3 = 9 \n",
      "\n",
      "3 X 4 = 12 \n",
      "\n",
      "3 X 5 = 15 \n",
      "\n",
      "3 X 6 = 18 \n",
      "\n",
      "3 X 7 = 21 \n",
      "\n",
      "3 X 8 = 24 \n",
      "\n",
      "3 X 9 = 27 \n",
      "\n",
      "3 X 10 = 30 \n",
      "\n",
      "\n",
      "4 X 1 = 4 \n",
      "\n",
      "4 X 2 = 8 \n",
      "\n",
      "4 X 3 = 12 \n",
      "\n",
      "4 X 4 = 16 \n",
      "\n",
      "4 X 5 = 20 \n",
      "\n",
      "4 X 6 = 24 \n",
      "\n",
      "4 X 7 = 28 \n",
      "\n",
      "4 X 8 = 32 \n",
      "\n",
      "4 X 9 = 36 \n",
      "\n",
      "4 X 10 = 40 \n",
      "\n",
      "\n",
      "5 X 1 = 5 \n",
      "\n",
      "5 X 2 = 10 \n",
      "\n",
      "5 X 3 = 15 \n",
      "\n",
      "5 X 4 = 20 \n",
      "\n",
      "5 X 5 = 25 \n",
      "\n",
      "5 X 6 = 30 \n",
      "\n",
      "5 X 7 = 35 \n",
      "\n",
      "5 X 8 = 40 \n",
      "\n",
      "5 X 9 = 45 \n",
      "\n",
      "5 X 10 = 50 \n",
      "\n",
      "\n"
     ]
    }
   ],
   "source": [
    "#Develop a program that generates a multiplication table for numbers from 1 to 5 using a nested `for` loop.\n",
    "max_value=5\n",
    "for i in range(1,max_value+1):\n",
    "    for j in range(1,11):\n",
    "        tab=i*j\n",
    "        print(i,\"X\",j,\"=\",tab,'\\n') \n",
    "    print()"
   ]
  },
  {
   "cell_type": "code",
   "execution_count": 26,
   "id": "18320eff-f716-4a68-a3eb-4efc8abc28c5",
   "metadata": {},
   "outputs": [
    {
     "name": "stdout",
     "output_type": "stream",
     "text": [
      "temperature in farenheit: [107, 25, 697, 56, 43, 67]\n",
      "temperature in celcius: [41.66666666666667, -3.8888888888888893, 369.44444444444446, 13.333333333333334, 6.111111111111112, 19.444444444444446]\n"
     ]
    }
   ],
   "source": [
    "#Write a program that converts a list of Fahrenheit temperatures to Celsius using a `for` loop.\n",
    "temp_far=[107,25,697,56,43,67]\n",
    "temp_cel=[]\n",
    "for i in temp_far:\n",
    "    t=((i-32)*(5/9))\n",
    "    temp_cel.append(t)\n",
    "print(\"temperature in farenheit:\",temp_far)\n",
    "print(\"temperature in celcius:\",temp_cel)\n"
   ]
  },
  {
   "cell_type": "code",
   "execution_count": 28,
   "id": "72c39e66-5a8f-433a-899d-77b670a1a898",
   "metadata": {},
   "outputs": [
    {
     "name": "stdout",
     "output_type": "stream",
     "text": [
      "[12, 15, 45, 9, 87]\n"
     ]
    }
   ],
   "source": [
    "#Create a program to print the common elements from two lists using a `for` loop.\n",
    "list1=[12,3,4,23,15,45,9,87]\n",
    "list2=[15,12,45,9,87,16,43,5]\n",
    "common=[]\n",
    "for i in list1:\n",
    "    for j in list2:\n",
    "        if i==j:\n",
    "            common.append(i)\n",
    "print(common)\n",
    "            "
   ]
  },
  {
   "cell_type": "code",
   "execution_count": 9,
   "id": "38e84fe8-e94f-49f2-a385-8b6f51de9faa",
   "metadata": {},
   "outputs": [
    {
     "name": "stdout",
     "output_type": "stream",
     "text": [
      "*\n",
      "**\n",
      "***\n",
      "****\n",
      "*****\n"
     ]
    }
   ],
   "source": [
    "#Develop a program that prints the pattern of right-angled triangles using a `for` loop. Use ‘*’ to draw the pattern\n",
    "row=5\n",
    "for i in range(1,row+1):\n",
    "    for j in range(1,i+1):\n",
    "        print(\"*\", end='')\n",
    "    print()"
   ]
  },
  {
   "cell_type": "code",
   "execution_count": 36,
   "id": "5ae2e93c-b1b2-46b2-aee9-7a8b7ac8ba1a",
   "metadata": {},
   "outputs": [
    {
     "name": "stdin",
     "output_type": "stream",
     "text": [
      "enter the first number: 100\n",
      "enter the second number: 500\n"
     ]
    },
    {
     "name": "stdout",
     "output_type": "stream",
     "text": [
      "GCD of 100 and 500 is 50\n"
     ]
    }
   ],
   "source": [
    "# Write a program to find the greatest common divisor (GCD) of two numbers using a `for` loop.\n",
    "num1 = int(input(\"enter the first number:\"))\n",
    "num2 = int(input(\"enter the second number:\"))\n",
    "gcd = 1\n",
    "for i in range(1, min(num1, num2)):\n",
    "    if num1 % i == 0 and num2 % i == 0:\n",
    "        gcd = i\n",
    "print(\"GCD of\", num1, \"and\", num2, \"is\", gcd)\n"
   ]
  },
  {
   "cell_type": "code",
   "execution_count": 37,
   "id": "e0ac7b79-02dc-41dd-8fc2-52e8b7bf5947",
   "metadata": {},
   "outputs": [],
   "source": [
    "#ADVANCED LEVEL"
   ]
  },
  {
   "cell_type": "code",
   "execution_count": 12,
   "id": "9614cf28-5d27-4bb0-a855-836613d6d778",
   "metadata": {},
   "outputs": [
    {
     "name": "stdout",
     "output_type": "stream",
     "text": [
      "The original list is : [12, 67, 98, 34]\n",
      "List Integer Summation : [3, 13, 17, 7]\n"
     ]
    }
   ],
   "source": [
    "#Create a program that calculates the sum of the digits of numbers in a list using a list comprehension.\n",
    "test_list = [12, 67, 98, 34]\n",
    "print(\"The original list is : \" +str(test_list))\n",
    "res = list(map(lambda ele: sum(int(sub) for sub in str(ele)), test_list)) \n",
    "print (\"List Integer Summation : \" +str(res))\n"
   ]
  },
  {
   "cell_type": "code",
   "execution_count": null,
   "id": "1674d470-66a1-4b13-88be-f961a10feed8",
   "metadata": {},
   "outputs": [],
   "source": []
  }
 ],
 "metadata": {
  "kernelspec": {
   "display_name": "Python 3 (ipykernel)",
   "language": "python",
   "name": "python3"
  },
  "language_info": {
   "codemirror_mode": {
    "name": "ipython",
    "version": 3
   },
   "file_extension": ".py",
   "mimetype": "text/x-python",
   "name": "python",
   "nbconvert_exporter": "python",
   "pygments_lexer": "ipython3",
   "version": "3.10.8"
  }
 },
 "nbformat": 4,
 "nbformat_minor": 5
}
